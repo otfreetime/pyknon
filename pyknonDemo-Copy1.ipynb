{
 "cells": [
  {
   "cell_type": "code",
   "execution_count": 12,
   "id": "87dec409",
   "metadata": {},
   "outputs": [],
   "source": [
    "from pyknon.genmidi import Midi\n",
    "from pyknon.music import NoteSeq, Note\n",
    "from music21 import *\n",
    "environment.set('musescoreDirectPNGPath', 'D:/MuseScore3/bin/MuseScore3.exe')\n",
    "\n",
    "notes1 = NoteSeq(\"D4 F#8 A Bb4\")\n",
    "xmidi = Midi(1, tempo=90)\n",
    "xmidi.seq_notes(notes1, track=0)\n",
    "xmidi.write(\"demo1.mid\")\n",
    "\n"
   ]
  },
  {
   "cell_type": "code",
   "execution_count": 16,
   "id": "eb295e7c",
   "metadata": {
    "scrolled": true
   },
   "outputs": [
    {
     "data": {
      "text/html": [
       "\n",
       "                <div id='midiPlayerDiv594'></div>\n",
       "                <link rel=\"stylesheet\" href=\"//cuthbertLab.github.io/music21j/css/m21.css\"\n",
       "                    type=\"text/css\" />\n",
       "                <script>\n",
       "                require.config({\n",
       "                    paths: {'music21': '//cuthbertLab.github.io/music21j/src/music21'}\n",
       "                });\n",
       "                require(['music21'], function() {\n",
       "                               mp = new music21.miditools.MidiPlayer();\n",
       "                               mp.addPlayer('#midiPlayerDiv594');\n",
       "                               mp.base64Load('data:audio/midi;base64,TVRoZAAAAAYAAQACBABNVHJrAAAAFAD/UQMKLCsA/1gEBAIYCIgA/y8ATVRyawAAAD8A/wMHVHJhY2sgMADAAADgAEAAwACIAJA+eIgAgD4AAJBCeIQAgEIAAJBFeIQAgEUAAJBGeIgAgEYAiAD/LwA=');\n",
       "                        });\n",
       "                </script>"
      ],
      "text/plain": [
       "<IPython.core.display.HTML object>"
      ]
     },
     "metadata": {},
     "output_type": "display_data"
    }
   ],
   "source": [
    "\n",
    "def playMidi(filename):\n",
    "    mf = midi.MidiFile()\n",
    "    mf.open(filename)\n",
    "    mf.read()\n",
    "    mf.close()\n",
    "    s=midi.translate.midiFileToStream(mf)\n",
    "    s.show('midi')\n",
    "\n",
    "playMidi(\"demo1.mid\")"
   ]
  },
  {
   "cell_type": "code",
   "execution_count": 17,
   "id": "0e9075ab",
   "metadata": {},
   "outputs": [
    {
     "data": {
      "image/png": "[encoded data removed]",
      "text/plain": [
       "<IPython.core.display.Image object>"
      ]
     },
     "metadata": {
      "image/png": {
       "height": 49,
       "width": 206
      }
     },
     "output_type": "display_data"
    }
   ],
   "source": [
    "from IPython.display import Image\n",
    "\n",
    "n = note.Note(\"D-\")\n",
    "n.show()"
   ]
  },
  {
   "cell_type": "code",
   "execution_count": 3,
   "id": "15dcdd78",
   "metadata": {},
   "outputs": [
    {
     "data": {
      "text/plain": [
       "<C>"
      ]
     },
     "execution_count": 3,
     "metadata": {},
     "output_type": "execute_result"
    }
   ],
   "source": [
    "Note(value=0, octave=5, dur=0.25, volume=127)"
   ]
  },
  {
   "cell_type": "code",
   "execution_count": 4,
   "id": "adbca3c7",
   "metadata": {},
   "outputs": [
    {
     "data": {
      "text/plain": [
       "<C>"
      ]
     },
     "execution_count": 4,
     "metadata": {},
     "output_type": "execute_result"
    }
   ],
   "source": [
    "Note(0, 5, 0.25, 127)"
   ]
  },
  {
   "cell_type": "code",
   "execution_count": 6,
   "id": "3890ebbe",
   "metadata": {},
   "outputs": [
    {
     "data": {
      "text/plain": [
       "5"
      ]
     },
     "execution_count": 6,
     "metadata": {},
     "output_type": "execute_result"
    }
   ],
   "source": [
    "a=Note()\n",
    "a.octave"
   ]
  },
  {
   "cell_type": "code",
   "execution_count": 7,
   "id": "3924a8e1",
   "metadata": {},
   "outputs": [
    {
     "data": {
      "text/plain": [
       "0"
      ]
     },
     "execution_count": 7,
     "metadata": {},
     "output_type": "execute_result"
    }
   ],
   "source": [
    "a.value"
   ]
  },
  {
   "cell_type": "code",
   "execution_count": 8,
   "id": "47c669c2",
   "metadata": {},
   "outputs": [
    {
     "data": {
      "text/plain": [
       "0.25"
      ]
     },
     "execution_count": 8,
     "metadata": {},
     "output_type": "execute_result"
    }
   ],
   "source": [
    "a.dur"
   ]
  },
  {
   "cell_type": "code",
   "execution_count": 9,
   "id": "03d892be",
   "metadata": {},
   "outputs": [
    {
     "data": {
      "text/plain": [
       "60"
      ]
     },
     "execution_count": 9,
     "metadata": {},
     "output_type": "execute_result"
    }
   ],
   "source": [
    "a.midi_number"
   ]
  },
  {
   "cell_type": "code",
   "execution_count": 10,
   "id": "d4b39b2d",
   "metadata": {},
   "outputs": [
    {
     "data": {
      "text/plain": [
       "<C>"
      ]
     },
     "execution_count": 10,
     "metadata": {},
     "output_type": "execute_result"
    }
   ],
   "source": [
    "Note(\"C4\")"
   ]
  },
  {
   "cell_type": "code",
   "execution_count": 14,
   "id": "60ff70b7",
   "metadata": {},
   "outputs": [],
   "source": [
    "notesList= NoteSeq(\"file://code-example/notes\")"
   ]
  },
  {
   "cell_type": "code",
   "execution_count": 15,
   "id": "21bc82d1",
   "metadata": {},
   "outputs": [],
   "source": [
    "xmidi = Midi(1, tempo=90)\n",
    "xmidi.seq_notes(notesList, track=0)\n",
    "xmidi.write(\"demo2.mid\")"
   ]
  },
  {
   "cell_type": "code",
   "execution_count": 24,
   "id": "7c659709",
   "metadata": {},
   "outputs": [],
   "source": [
    "def demo():\n",
    "    notes1 = NoteSeq(\"D4 F#8 A Bb4\")\n",
    "    notes2 = NoteSeq([Note(2, dur=1/4), Note(6, dur=1/8),\n",
    "    Note(9, dur=1/8), Note(10, dur=1/4)])\n",
    "    midi = Midi(number_tracks=2, tempo=90)\n",
    "    midi.seq_notes(notes1, track=0)\n",
    "    midi.seq_notes(notes2, track=1)\n",
    "    midi.write(\"midi/demo.mid\")"
   ]
  },
  {
   "cell_type": "code",
   "execution_count": 36,
   "id": "4f350621",
   "metadata": {},
   "outputs": [],
   "source": [
    "def play_list(pitch_list, octave_list, duration,\n",
    "    volume=120):\n",
    "    result = NoteSeq()\n",
    "    for pitch in pitch_list:\n",
    "        note = pitch % 12\n",
    "        octave = choice_if_list(octave_list)\n",
    "        dur = choice_if_list(duration)\n",
    "        vol = choice_if_list(volume)\n",
    "        result.append(Note(note, octave, dur, vol))\n",
    "    return result"
   ]
  },
  {
   "cell_type": "code",
   "execution_count": 38,
   "id": "ab21875e",
   "metadata": {},
   "outputs": [],
   "source": [
    "def gen_patterns(pattern, number_rotations=12, repeat=4):\n",
    "    result = NoteSeq()\n",
    "    for n in range(0, number_rotations):\n",
    "        rotation = pattern.rotate(n)\n",
    "        result.extend(rotation * repeat)\n",
    "    return result"
   ]
  },
  {
   "cell_type": "code",
   "execution_count": 56,
   "id": "3fbf9c6b",
   "metadata": {},
   "outputs": [],
   "source": [
    "def piano_phase(number_rotations=12, repeat=4):\n",
    "    pattern = NoteSeq(\"E16 F# B C#’’ D’’ F#’ E C#’’ B’ F# D’’ C#\")\n",
    "    piano1 = pattern * (number_rotations + 1) * repeat\n",
    "    piano2 = gen_patterns(pattern, number_rotations, repeat)\n",
    "    x = Midi(2, tempo=108)\n",
    "    x.seq_notes(piano1)\n",
    "    x.seq_notes(piano2, track=1, time=3*repeat)\n",
    "    x.write(\"midi/piano-phase.mid\")\n"
   ]
  },
  {
   "cell_type": "code",
   "execution_count": 57,
   "id": "e0337f83",
   "metadata": {},
   "outputs": [],
   "source": [
    "piano_phase(12,4)"
   ]
  },
  {
   "cell_type": "code",
   "execution_count": 58,
   "id": "847cf331",
   "metadata": {},
   "outputs": [],
   "source": [
    "from pyknon.genmidi import Midi\n",
    "from pyknon.music import NoteSeq\n",
    "\n",
    "notes1 = NoteSeq(\"C4 D E F G A B C''\")\n",
    "notes2 = NoteSeq(\"r1 r1 C4 D E F G A B C''\")\n",
    "\n",
    "table = [\n",
    "    (60, 261.63), # 261.63\n",
    "    (62, 280),    # 293.66\n",
    "    (64, 333),    # 329.63\n",
    "    (65, 349),    # 349.23\n",
    "    (67, 391.99), # 391.99\n",
    "    (69, 444),    # 440.00\n",
    "    (71, 510),    # 493.88\n",
    "    (72, 523.25)  # 523.25\n",
    "]\n",
    "\n",
    "m = Midi(2, tempo=120)\n",
    "m.seq_notes(notes1, track=0)\n",
    "m.seq_notes(notes2, track=1)\n",
    "m.change_tuning(0, table)\n",
    "m.write(\"micro.mid\")"
   ]
  },
  {
   "cell_type": "code",
   "execution_count": 59,
   "id": "967076d4",
   "metadata": {},
   "outputs": [],
   "source": [
    "from pyknon.genmidi import Midi\n",
    "from pyknon.music import NoteSeq\n",
    "\n",
    "# Notes on two tracks using the defaults\n",
    "\n",
    "notes1 = NoteSeq(\"C4.'' B8' A4 D\")\n",
    "notes2 = NoteSeq(\"E4 F G4. A8\")\n",
    "\n",
    "m = Midi(2, tempo=100, instrument=[12, 14])\n",
    "m.seq_notes(notes1, track=0)\n",
    "m.seq_notes(notes2, track=1)\n",
    "m.write(\"tracks.mid\")\n",
    "\n",
    "# Chords on two tracks using the defaults\n",
    "\n",
    "chords1 = [NoteSeq(\"C2 E G\"), NoteSeq(\"G2 B D\")]\n",
    "chords2 = [NoteSeq(\"C,4 E\"), NoteSeq(\"E, G\"), NoteSeq(\"G, B\"), NoteSeq(\"B, D'\")]\n",
    "\n",
    "midi = Midi(2, tempo=60, instrument=[40, 20])\n",
    "midi.seq_chords(chords1, track=0)\n",
    "midi.seq_chords(chords2, track=1)\n",
    "midi.write(\"chords.mid\")\n",
    "\n",
    "# Notes on two tracks using percussion\n",
    "\n",
    "# In the MIDI library, the tracks and channels are numbered from 0,\n",
    "# While the MIDI Standard is numbered from 1,\n",
    "# So to use percussion you must use channel 9 in the library\n",
    "\n",
    "n1 = NoteSeq(\"C4 D E F\")\n",
    "n2 = NoteSeq(\"C8 C G, G C' C G, G\")\n",
    "\n",
    "m2 = Midi(2, tempo=123, channel=[0, 9], instrument=[20, 40])\n",
    "m2.seq_notes(n1, track=0, channel=0)\n",
    "m2.seq_notes(n2, track=1, channel=9)\n",
    "m2.write(\"percussion.mid\")\n",
    "\n"
   ]
  },
  {
   "cell_type": "code",
   "execution_count": 18,
   "id": "a7215a24",
   "metadata": {},
   "outputs": [],
   "source": [
    "def abstraction():\n",
    " a = NoteSeq(\"C4. Eb8\")\n",
    " a1 = a.transp(5).stretch_dur(0.5)\n",
    " a2 = a.inv(\"Db’’\")\n",
    " a3 = a1.inv(8)\n",
    "\n",
    " A = a + a1 + a2 + a3\n",
    " A2 = A.transp(2)\n",
    " B = a1.transp(8) + a1.transp(\"Eb’’\")\n",
    "\n",
    " c = NoteSeq([Note(x.value, dur=0.125) for x in a + a1])\n",
    " C = (c.inv(\"Ab’’\") +\n",
    " c.inv(10) +\n",
    " c.stretch_interval(2).transp(2) +\n",
    " c.inv(\"G’’\") +\n",
    " c.inv(\"E’’\").stretch_interval(1) +\n",
    " c.inv(\"A\").stretch_interval(1)\n",
    " )\n",
    "\n",
    " a4 = a.stretch_dur(2).inv(6)\n",
    "\n",
    " Part1 = A + NoteSeq(\"C2\") + A2 + B\n",
    " Part2 = C + a4\n",
    "\n",
    " midi = Midi(1, tempo=90)\n",
    " midi.seq_notes(Part1 + Part2, track=0)\n",
    " midi.write(\"midi/abstraction.mid\")"
   ]
  },
  {
   "cell_type": "code",
   "execution_count": 19,
   "id": "0f5a4bc3",
   "metadata": {},
   "outputs": [],
   "source": [
    "abstraction()"
   ]
  },
  {
   "cell_type": "code",
   "execution_count": 20,
   "id": "1e0ae7df",
   "metadata": {},
   "outputs": [
    {
     "data": {
      "text/html": [
       "\n",
       "                <div id='midiPlayerDiv1747'></div>\n",
       "                <link rel=\"stylesheet\" href=\"//cuthbertLab.github.io/music21j/css/m21.css\"\n",
       "                    type=\"text/css\" />\n",
       "                <script>\n",
       "                require.config({\n",
       "                    paths: {'music21': '//cuthbertLab.github.io/music21j/src/music21'}\n",
       "                });\n",
       "                require(['music21'], function() {\n",
       "                               mp = new music21.miditools.MidiPlayer();\n",
       "                               mp.addPlayer('#midiPlayerDiv1747');\n",
       "                               mp.base64Load('data:audio/midi;base64,TVRoZAAAAAYAAQACBABNVHJrAAAAFAD/UQMKLCsA/1gEBAIYCIgA/y8ATVRyawAAAcIA/wMHVHJhY2sgMADAAADgAEAAwACIAJA8eIwAgDwAAJA/eIQAgD8AAJBBeIYAgEEAAJBEeIIAgEQAAJA9eIwAgD0AAJA6eIQAgDoAAJBEeIYAgEQAAJBBeIIAgEEAAJA8eJAAgDwAAJA+eIwAgD4AAJBBeIQAgEEAAJBDeIYAgEMAAJBGeIIAgEYAAJA/eIwAgD8AAJA8eIQAgDwAAJBGeIYAgEYAAJBDeIIAgEMAAJBEeIYAgEQAAJBHeIIAgEcAAJA/eIYAgD8AAJBCeIIAgEIAAJBEZIQAgEQAAJBBZIQAgEEAAJA/ZIQAgD8AAJA8ZIQAgDwAAJBGZIQAgEYAAJBDZIQAgEMAAJBBZIQAgEEAAJA+ZIQAgD4AAJA+ZIQAgD4AAJBDZIQAgEMAAJBHZIQAgEcAAJBMZIQAgEwAAJBDZIQAgEMAAJBAZIQAgEAAAJA+ZIQAgD4AAJA7ZIQAgDsAAJBAZIQAgEAAAJA+ZIQAgD4AAJA9ZIQAgD0AAJA7ZIQAgDsAAJBFZIQAgEUAAJBDZIQAgEMAAJBCZIQAgEIAAJBAZIQAgEAAAJBCeJgAgEIAAJA/eIgAgD8AiAD/LwA=');\n",
       "                        });\n",
       "                </script>"
      ],
      "text/plain": [
       "<IPython.core.display.HTML object>"
      ]
     },
     "metadata": {},
     "output_type": "display_data"
    }
   ],
   "source": [
    "playMidi(\"midi/abstraction.mid\")"
   ]
  },
  {
   "cell_type": "code",
   "execution_count": 64,
   "id": "deea0d5c",
   "metadata": {},
   "outputs": [
    {
     "name": "stdout",
     "output_type": "stream",
     "text": [
      "44100\n",
      "4095.9996855891045\n",
      "-4095.999685589104\n"
     ]
    }
   ],
   "source": [
    "import numpy as np\n",
    "\n",
    "samplerate = 44100 #Frequecy in Hz\n",
    "\n",
    "def get_wave(freq, duration=0.5):\n",
    "    '''\n",
    "    Function takes the \"frequecy\" and \"time_duration\" for a wave \n",
    "    as the input and returns a \"numpy array\" of values at all points \n",
    "    in time\n",
    "    '''\n",
    "    \n",
    "    amplitude = 4096\n",
    "    t = np.linspace(0, duration, int(samplerate * duration))\n",
    "    wave = amplitude * np.sin(2 * np.pi * freq * t)\n",
    "    \n",
    "    return wave\n",
    "\n",
    "# To get a 1 second long wave of frequency 440Hz\n",
    "a_wave = get_wave(440, 1)\n",
    "\n",
    "#wave features\n",
    "print(len(a_wave)) # 44100\n",
    "print(np.max(a_wave)) # 4096\n",
    "print(np.min(a_wave)) # -4096"
   ]
  },
  {
   "cell_type": "code",
   "execution_count": 65,
   "id": "ae21f078",
   "metadata": {},
   "outputs": [
    {
     "data": {
      "image/png": "[encoded data removed]",
      "text/plain": [
       "<Figure size 432x288 with 1 Axes>"
      ]
     },
     "metadata": {
      "image/png": {
       "height": 261,
       "width": 403
      },
      "needs_background": "light"
     },
     "output_type": "display_data"
    }
   ],
   "source": [
    "import matplotlib.pyplot as plt\n",
    "plt.plot(a_wave[0:int(44100/440)])\n",
    "plt.xlabel('time')\n",
    "plt.ylabel('Amplitude')\n",
    "plt.show()"
   ]
  },
  {
   "cell_type": "code",
   "execution_count": 68,
   "id": "51d56b1a",
   "metadata": {},
   "outputs": [
    {
     "name": "stdout",
     "output_type": "stream",
     "text": [
      "{'': 0.0,\n",
      " 'A': 440.00745824565865,\n",
      " 'B': 493.89167285382297,\n",
      " 'C': 261.63,\n",
      " 'D': 293.66974569918125,\n",
      " 'E': 329.63314428399565,\n",
      " 'F': 349.2341510465061,\n",
      " 'G': 392.0020805232462,\n",
      " 'a': 466.1716632541139,\n",
      " 'c': 277.18732937722245,\n",
      " 'd': 311.1322574981619,\n",
      " 'f': 370.00069432367286,\n",
      " 'g': 415.31173722644}\n"
     ]
    },
    {
     "data": {
      "text/plain": [
       "\"\\n           {'': 0.0,\\n           'A': 440.00745824565865,\\n           'B': 493.8916728538229,\\n           'C': 261.63,\\n           'D': 293.66974569918125,\\n           'E': 329.63314428399565,\\n           'F': 349.2341510465061,\\n           'G': 392.0020805232462,\\n           'a': 466.1716632541139,\\n           'c': 277.18732937722245,\\n           'd': 311.1322574981619,\\n           'f': 370.00069432367286,\\n           'g': 415.31173722644}\\n\""
      ]
     },
     "execution_count": 68,
     "metadata": {},
     "output_type": "execute_result"
    }
   ],
   "source": [
    "from pprint import pprint\n",
    "\n",
    "def get_piano_notes():\n",
    "    '''\n",
    "    Returns a dict object for all the piano \n",
    "    note's frequencies\n",
    "    '''\n",
    "    # White keys are in Uppercase and black keys (sharps) are in lowercase\n",
    "    octave = ['C', 'c', 'D', 'd', 'E', 'F', 'f', 'G', 'g', 'A', 'a', 'B'] \n",
    "    base_freq = 261.63 #Frequency of Note C4\n",
    "    \n",
    "    note_freqs = {octave[i]: base_freq * pow(2,(i/12)) for i in range(len(octave))}        \n",
    "    note_freqs[''] = 0.0 # silent note\n",
    "    \n",
    "    return note_freqs\n",
    "  \n",
    "# To get the piano note's frequencies\n",
    "note_freqs = get_piano_notes()\n",
    "pprint(note_freqs)\n",
    "'''\n",
    "           {'': 0.0,\n",
    "           'A': 440.00745824565865,\n",
    "           'B': 493.8916728538229,\n",
    "           'C': 261.63,\n",
    "           'D': 293.66974569918125,\n",
    "           'E': 329.63314428399565,\n",
    "           'F': 349.2341510465061,\n",
    "           'G': 392.0020805232462,\n",
    "           'a': 466.1716632541139,\n",
    "           'c': 277.18732937722245,\n",
    "           'd': 311.1322574981619,\n",
    "           'f': 370.00069432367286,\n",
    "           'g': 415.31173722644}\n",
    "'''"
   ]
  },
  {
   "cell_type": "code",
   "execution_count": 92,
   "id": "c1a9bfb5",
   "metadata": {},
   "outputs": [],
   "source": [
    "import numpy as np\n",
    "\n",
    "def get_song_data(music_notes):\n",
    "    '''\n",
    "    Function to concatenate all the waves (notes)\n",
    "    '''\n",
    "    note_freqs = get_piano_notes() # Function that we made earlier\n",
    "    song = [get_wave(note_freqs[note]) for note in music_notes.split('-')]\n",
    "    song = np.concatenate(song)\n",
    "    return song\n",
    "\n",
    "music_notes =  'D-G-A-B-B--B-A-B-G-G--G-A-B-C--E-E-D-C-B-G-A-B-C--E-E-D-C-B--G-G-A-B-C--A-A-B--G'\n",
    "#music_notes =  'C-C-G-G-A-A-G--F-F-E-E-D-D-C--G-G-F-F-E-E-D--G-G-F-F-E-E-D--C-C-G-G-A-A-G--F-F-E-E-D-D-C'\n",
    "#music_notes = 'C-C-G-G-A-A-G--F-F-E-E-D-D-C--G-G-F-F-E-E-D--G-G-F-F-E-E-D--C-C-G-G-A-A-G--F-F-E-E-D-D-C'\n",
    "data = get_song_data(music_notes)\n",
    "\n",
    "data = data * (16300/np.max(data)) # Adjusting the Amplitude (Optional)"
   ]
  },
  {
   "cell_type": "code",
   "execution_count": 93,
   "id": "32e423d0",
   "metadata": {},
   "outputs": [],
   "source": [
    "from scipy.io.wavfile import write\n",
    "write('twinkle-twinkle.wav', samplerate, data.astype(np.int16))"
   ]
  },
  {
   "cell_type": "code",
   "execution_count": 15,
   "id": "23710fbc",
   "metadata": {},
   "outputs": [
    {
     "data": {
      "image/png": "[encoded data removed]",
      "text/plain": [
       "<IPython.core.display.Image object>"
      ]
     },
     "metadata": {
      "image/png": {
       "height": 49,
       "width": 206
      }
     },
     "output_type": "display_data"
    }
   ],
   "source": [
    "\n"
   ]
  },
  {
   "cell_type": "code",
   "execution_count": null,
   "id": "3985ff96",
   "metadata": {},
   "outputs": [],
   "source": []
  }
 ],
 "metadata": {
  "kernelspec": {
   "display_name": "Python 3 (ipykernel)",
   "language": "python",
   "name": "python3"
  },
  "language_info": {
   "codemirror_mode": {
    "name": "ipython",
    "version": 3
   },
   "file_extension": ".py",
   "mimetype": "text/x-python",
   "name": "python",
   "nbconvert_exporter": "python",
   "pygments_lexer": "ipython3",
   "version": "3.9.7"
  }
 },
 "nbformat": 4,
 "nbformat_minor": 5
}
