{
 "cells": [
  {
   "cell_type": "code",
   "execution_count": 7,
   "id": "6518d98b",
   "metadata": {},
   "outputs": [],
   "source": [
    "from music21  import *\n",
    "#s = corpus.parse('bwv66.6')"
   ]
  },
  {
   "cell_type": "code",
   "execution_count": 183,
   "id": "1c7faaf8",
   "metadata": {},
   "outputs": [],
   "source": [
    "#sc = scale.ConcreteScale(pitch.Pitch('c'))\n",
    "#sc = scale.AbstractScale(pitch.Pitch('c'))\n",
    "#sc = scale.AbstractCyclicalScale(pitch.Pitch('c'))\n",
    "#sc = scale.AbstractDiatonicScale(pitch.Pitch('c'))\n",
    "#sc = scale.AbstractHarmonicMinorScale(pitch.Pitch('c'))\n",
    "#sc = scale.AbstractMelodicMinorScale(pitch.Pitch('c'))\n",
    "#sc = scale.AbstractOctatonicScale(pitch.Pitch('c'))\n",
    "#sc = scale.AbstractOctaveRepeatingScale(pitch.Pitch('c'))\n",
    "#sc = scale.AbstractRagAsawari(pitch.Pitch('c'))\n",
    "#sc = scale.AbstractRagMarwa(pitch.Pitch('c'))\n",
    "#sc = scale.AbstractWeightedHexatonicBlues(pitch.Pitch('c'))\n",
    "sc = scale.ChromaticScale()\n",
    "#sc = scale.CyclicalScale()\n",
    "#sc = scale.DiatonicScale()\n",
    "#sc = scale.DorianScale('C')\n",
    "#sc = scale.HarmonicMinorScale()\n",
    "#sc = scale.HypoaeolianScale()\n",
    "#sc = scale.HypodorianScale()\n",
    "#sc = scale.HypolocrianScale()\n",
    "#sc = scale.HypolydianScale()\n",
    "#sc = scale.HypomixolydianScale()\n",
    "#sc = scale.HypophrygianScale()\n",
    "#sc = scale.LocrianScale()\n",
    "#sc = scale.LydianScale()\n",
    "#sc = scale.MajorScale()\n",
    "#sc = scale.MelodicMinorScale()\n",
    "#sc = scale.MinorScale()\n",
    "#sc = scale.MixolydianScale()\n",
    "#sc = scale.OctatonicScale()\n",
    "#sc = scale.OctaveRepeatingScale()\n",
    "#sc = scale.PhrygianScale()\n",
    "#sc = scale.RagAsawari()\n",
    "#sc = scale.RagMarwa()\n",
    "#sc = scale.ScalaScale()\n",
    "#sc = scale.Scale()\n",
    "#sc = scale.SieveScale()\n",
    "#sc = scale.WeightedHexatonicBlues(pitch.Pitch('c'))\n",
    "#sc = scale.WholeToneScale(pitch.Pitch('c'))\n"
   ]
  },
  {
   "cell_type": "code",
   "execution_count": 184,
   "id": "2733b7eb",
   "metadata": {},
   "outputs": [
    {
     "name": "stdout",
     "output_type": "stream",
     "text": [
      "['C4', 'C#4', 'D4', 'E-4', 'E4', 'F4', 'F#4', 'G4', 'A-4', 'A4', 'B-4', 'B4', 'C5']\n"
     ]
    },
    {
     "data": {
      "image/png": "[encoded data removed]",
      "text/plain": [
       "<IPython.core.display.Image object>"
      ]
     },
     "metadata": {
      "image/png": {
       "height": 53,
       "width": 674
      }
     },
     "output_type": "display_data"
    },
    {
     "data": {
      "text/html": [
       "\n",
       "                <div id='midiPlayerDiv18296'></div>\n",
       "                <link rel=\"stylesheet\" href=\"//cuthbertLab.github.io/music21j/css/m21.css\"\n",
       "                    type=\"text/css\" />\n",
       "                <script>\n",
       "                require.config({\n",
       "                    paths: {'music21': '//cuthbertLab.github.io/music21j/src/music21'}\n",
       "                });\n",
       "                require(['music21'], function() {\n",
       "                               mp = new music21.miditools.MidiPlayer();\n",
       "                               mp.addPlayer('#midiPlayerDiv18296');\n",
       "                               mp.base64Load('data:audio/midi;base64,TVRoZAAAAAYAAQACBABNVHJrAAAAFAD/UQMHoSAA/1gEBAIYCIgA/y8ATVRyawAAAIMA/wMAAOAAQIgAkDxaiACAPAAAkD1aiACAPQAAkD5aiACAPgAAkD9aiACAPwAAkEBaiACAQAAAkEFaiACAQQAAkEJaiACAQgAAkENaiACAQwAAkERaiACARAAAkEVaiACARQAAkEZaiACARgAAkEdaiACARwAAkEhaiACASACIAP8vAA==');\n",
       "                        });\n",
       "                </script>"
      ],
      "text/plain": [
       "<IPython.core.display.HTML object>"
      ]
     },
     "metadata": {},
     "output_type": "display_data"
    }
   ],
   "source": [
    "sc.name\n",
    "\n",
    "pStrList =[str(p) for p in sc.pitches]\n",
    "pList = [pitch.Pitch(p) for p in pStrList]\n",
    "nList = [note.Note(p) for p in pStrList]\n",
    "s = stream.Stream()\n",
    "for n in nList:\n",
    "    s.append(n)\n",
    "print(pStrList)\n",
    "s.show()\n",
    "s.show('midi')"
   ]
  },
  {
   "cell_type": "code",
   "execution_count": null,
   "id": "f91de493",
   "metadata": {},
   "outputs": [],
   "source": []
  }
 ],
 "metadata": {
  "kernelspec": {
   "display_name": "Python 3 (ipykernel)",
   "language": "python",
   "name": "python3"
  },
  "language_info": {
   "codemirror_mode": {
    "name": "ipython",
    "version": 3
   },
   "file_extension": ".py",
   "mimetype": "text/x-python",
   "name": "python",
   "nbconvert_exporter": "python",
   "pygments_lexer": "ipython3",
   "version": "3.9.7"
  }
 },
 "nbformat": 4,
 "nbformat_minor": 5
}
