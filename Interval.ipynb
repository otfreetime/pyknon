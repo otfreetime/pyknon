{
 "cells": [
  {
   "cell_type": "code",
   "execution_count": 3,
   "id": "a87027b8",
   "metadata": {},
   "outputs": [],
   "source": [
    "from music21  import *"
   ]
  },
  {
   "cell_type": "code",
   "execution_count": 9,
   "id": "baf6fee7",
   "metadata": {},
   "outputs": [
    {
     "name": "stdout",
     "output_type": "stream",
     "text": [
      "m3\n"
     ]
    },
    {
     "data": {
      "text/plain": [
       "True"
      ]
     },
     "execution_count": 9,
     "metadata": {},
     "output_type": "execute_result"
    }
   ],
   "source": [
    "n1 = note.Note('e')\n",
    "n2 = note.Note('G')\n",
    "aInterval = interval.Interval(noteStart=n1, noteEnd=n2)\n",
    "aInterval\n",
    "\n",
    "print(aInterval.name)\n",
    "\n",
    "aInterval.noteStart is n1\n",
    "\n",
    "aInterval.noteEnd is n2"
   ]
  },
  {
   "cell_type": "code",
   "execution_count": 10,
   "id": "6a58c722",
   "metadata": {},
   "outputs": [
    {
     "data": {
      "text/plain": [
       "'m3'"
      ]
     },
     "execution_count": 10,
     "metadata": {},
     "output_type": "execute_result"
    }
   ],
   "source": [
    "aInterval.simpleName"
   ]
  },
  {
   "cell_type": "code",
   "execution_count": 11,
   "id": "e5d1f843",
   "metadata": {},
   "outputs": [
    {
     "data": {
      "text/plain": [
       "<music21.interval.Interval m3>"
      ]
     },
     "execution_count": 11,
     "metadata": {},
     "output_type": "execute_result"
    }
   ],
   "source": [
    "aInterval"
   ]
  },
  {
   "cell_type": "code",
   "execution_count": 12,
   "id": "83e98feb",
   "metadata": {},
   "outputs": [
    {
     "data": {
      "text/plain": [
       "'m3'"
      ]
     },
     "execution_count": 12,
     "metadata": {},
     "output_type": "execute_result"
    }
   ],
   "source": [
    "aInterval.semiSimpleName\n"
   ]
  },
  {
   "cell_type": "code",
   "execution_count": 13,
   "id": "e2625caa",
   "metadata": {},
   "outputs": [
    {
     "data": {
      "text/plain": [
       "<music21.interval.Interval M3>"
      ]
     },
     "execution_count": 13,
     "metadata": {},
     "output_type": "execute_result"
    }
   ],
   "source": [
    "aInterval = interval.Interval('m3')\n",
    "aInterval\n",
    "\n",
    "aInterval = interval.Interval('M3')\n",
    "aInterval"
   ]
  },
  {
   "cell_type": "code",
   "execution_count": 17,
   "id": "be573372",
   "metadata": {},
   "outputs": [
    {
     "data": {
      "text/plain": [
       "False"
      ]
     },
     "execution_count": 17,
     "metadata": {},
     "output_type": "execute_result"
    }
   ],
   "source": [
    "aInterval = interval.Interval('p5')\n",
    "aInterval\n",
    "\n",
    "aInterval.isChromaticStep\n",
    "\n",
    "aInterval.isDiatonicStep\n",
    "\n",
    "aInterval.isStep"
   ]
  },
  {
   "cell_type": "code",
   "execution_count": 21,
   "id": "c3dbffc9",
   "metadata": {},
   "outputs": [
    {
     "data": {
      "text/plain": [
       "<music21.interval.Interval P1>"
      ]
     },
     "execution_count": 21,
     "metadata": {},
     "output_type": "execute_result"
    }
   ],
   "source": [
    "aInterval = interval.Interval(0)\n",
    "aInterval"
   ]
  },
  {
   "cell_type": "code",
   "execution_count": null,
   "id": "21d4d31d",
   "metadata": {},
   "outputs": [],
   "source": []
  }
 ],
 "metadata": {
  "kernelspec": {
   "display_name": "Python 3 (ipykernel)",
   "language": "python",
   "name": "python3"
  },
  "language_info": {
   "codemirror_mode": {
    "name": "ipython",
    "version": 3
   },
   "file_extension": ".py",
   "mimetype": "text/x-python",
   "name": "python",
   "nbconvert_exporter": "python",
   "pygments_lexer": "ipython3",
   "version": "3.9.7"
  }
 },
 "nbformat": 4,
 "nbformat_minor": 5
}
