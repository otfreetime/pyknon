{
 "cells": [
  {
   "cell_type": "code",
   "execution_count": 7,
   "id": "b489f26e",
   "metadata": {},
   "outputs": [],
   "source": [
    "from music21  import *\n",
    "#s = corpus.parse('bwv66.6')"
   ]
  },
  {
   "cell_type": "code",
   "execution_count": 64,
   "id": "1359eeeb",
   "metadata": {},
   "outputs": [],
   "source": [
    "#sc = scale.ConcreteScale(pitch.Pitch('c'))\n",
    "#sc = scale.AbstractScale(pitch.Pitch('c'))\n",
    "#sc = scale.AbstractCyclicalScale(pitch.Pitch('c'))\n",
    "#sc = scale.AbstractDiatonicScale(pitch.Pitch('c'))\n",
    "#sc = scale.AbstractHarmonicMinorScale(pitch.Pitch('c'))\n",
    "#sc = scale.AbstractMelodicMinorScale(pitch.Pitch('c'))\n",
    "#sc = scale.AbstractOctatonicScale(pitch.Pitch('c'))\n",
    "#sc = scale.AbstractOctaveRepeatingScale(pitch.Pitch('c'))\n",
    "#sc = scale.AbstractRagAsawari(pitch.Pitch('c'))\n",
    "#sc = scale.AbstractRagMarwa(pitch.Pitch('c'))\n",
    "#sc = scale.AbstractWeightedHexatonicBlues(pitch.Pitch('c'))\n",
    "#sc = scale.ChromaticScale(pitch.Pitch('c'))\n",
    "#sc = scale.CyclicalScale(pitch.Pitch('c'))\n",
    "#sc = scale.DiatonicScale(pitch.Pitch('c'))\n",
    "#sc = scale.DorianScale(pitch.Pitch('c'))\n",
    "#sc = scale.HarmonicMinorScale(pitch.Pitch('c'))\n",
    "#sc = scale.HypoaeolianScale(pitch.Pitch('c'))\n",
    "#sc = scale.HypodorianScale(pitch.Pitch('c'))\n",
    "#sc = scale.HypolocrianScale(pitch.Pitch('c'))\n",
    "#sc = scale.HypolydianScale(pitch.Pitch('c'))\n",
    "#sc = scale.HypomixolydianScale(pitch.Pitch('c'))\n",
    "#sc = scale.HypophrygianScale(pitch.Pitch('c'))\n",
    "#sc = scale.LocrianScale(pitch.Pitch('c'))\n",
    "#sc = scale.LydianScale(pitch.Pitch('c'))\n",
    "#sc = scale.MajorScale(pitch.Pitch('c'))\n",
    "#sc = scale.MelodicMinorScale(pitch.Pitch('c'))\n",
    "#sc = scale.MinorScale(pitch.Pitch('c'))\n",
    "#sc = scale.MixolydianScale(pitch.Pitch('c'))\n",
    "#sc = scale.OctatonicScale(pitch.Pitch('c'))\n",
    "#sc = scale.OctaveRepeatingScale(pitch.Pitch('c'))\n",
    "#sc = scale.PhrygianScale(pitch.Pitch('c'))\n",
    "#sc = scale.RagAsawari(pitch.Pitch('c'))\n",
    "#sc = scale.RagMarwa(pitch.Pitch('c'))\n",
    "#sc = scale.ScalaScale(pitch.Pitch('c'))\n",
    "#sc = scale.Scale(pitch.Pitch('c'))\n",
    "#sc = scale.SieveScale(pitch.Pitch('c'))\n",
    "#sc = scale.WeightedHexatonicBlues(pitch.Pitch('c'))\n",
    "#sc = scale.WholeToneScale(pitch.Pitch('c'))\n"
   ]
  },
  {
   "cell_type": "code",
   "execution_count": 65,
   "id": "e9a121f7",
   "metadata": {},
   "outputs": [
    {
     "data": {
      "image/png": "[encoded data removed]",
      "text/plain": [
       "<IPython.core.display.Image object>"
      ]
     },
     "metadata": {
      "image/png": {
       "height": 49,
       "width": 674
      }
     },
     "output_type": "display_data"
    },
    {
     "data": {
      "text/html": [
       "\n",
       "                <div id='midiPlayerDiv4742'></div>\n",
       "                <link rel=\"stylesheet\" href=\"//cuthbertLab.github.io/music21j/css/m21.css\"\n",
       "                    type=\"text/css\" />\n",
       "                <script>\n",
       "                require.config({\n",
       "                    paths: {'music21': '//cuthbertLab.github.io/music21j/src/music21'}\n",
       "                });\n",
       "                require(['music21'], function() {\n",
       "                               mp = new music21.miditools.MidiPlayer();\n",
       "                               mp.addPlayer('#midiPlayerDiv4742');\n",
       "                               mp.base64Load('data:audio/midi;base64,TVRoZAAAAAYAAQACBABNVHJrAAAAFAD/UQMHoSAA/1gEBAIYCIgA/y8ATVRyawAAAFYA/wMAAOAAQIgAkDxaiACAPAAAkD5aiACAPgAAkEBaiACAQAAAkEFaiACAQQAAkENaiACAQwAAkEVaiACARQAAkEdaiACARwAAkEhaiACASACIAP8vAA==');\n",
       "                        });\n",
       "                </script>"
      ],
      "text/plain": [
       "<IPython.core.display.HTML object>"
      ]
     },
     "metadata": {},
     "output_type": "display_data"
    }
   ],
   "source": [
    "sc.name\n",
    "\n",
    "pStrList =[str(p) for p in sc1.pitches]\n",
    "pList = [pitch.Pitch(p) for p in pStrList]\n",
    "nList = [note.Note(p) for p in pStrList]\n",
    "s = stream.Stream()\n",
    "for n in nList:\n",
    "    s.append(n)\n",
    "s.show()\n",
    "s.show('midi')"
   ]
  },
  {
   "cell_type": "code",
   "execution_count": null,
   "id": "a0a566ca",
   "metadata": {},
   "outputs": [],
   "source": []
  }
 ],
 "metadata": {
  "kernelspec": {
   "display_name": "Python 3 (ipykernel)",
   "language": "python",
   "name": "python3"
  },
  "language_info": {
   "codemirror_mode": {
    "name": "ipython",
    "version": 3
   },
   "file_extension": ".py",
   "mimetype": "text/x-python",
   "name": "python",
   "nbconvert_exporter": "python",
   "pygments_lexer": "ipython3",
   "version": "3.9.7"
  }
 },
 "nbformat": 4,
 "nbformat_minor": 5
}
