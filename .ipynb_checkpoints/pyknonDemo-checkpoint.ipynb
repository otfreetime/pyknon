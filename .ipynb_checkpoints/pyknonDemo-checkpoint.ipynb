{
 "cells": [
  {
   "cell_type": "code",
   "execution_count": null,
   "id": "87dec409",
   "metadata": {},
   "outputs": [],
   "source": [
    "from pyknon.genmidi import Midi\n",
    "from pyknon.music import NoteSeq, Note,Rest\n",
    "from music21 import *\n",
    "environment.set('musescoreDirectPNGPath', 'D:/MuseScore3/bin/MuseScore3.exe')\n",
    "\n",
    "notes1 = NoteSeq(\"D4 F#8 A Bb4\")\n",
    "xmidi = Midi(1, tempo=90)\n",
    "xmidi.seq_notes(notes1, track=0)\n",
    "xmidi.write(\"demo1.mid\")\n",
    "\n"
   ]
  },
  {
   "cell_type": "code",
   "execution_count": 19,
   "id": "eb295e7c",
   "metadata": {
    "scrolled": true
   },
   "outputs": [
    {
     "ename": "AttributeError",
     "evalue": "type object 'Midi' has no attribute 'MidiFile'",
     "output_type": "error",
     "traceback": [
      "\u001b[1;31m---------------------------------------------------------------------------\u001b[0m",
      "\u001b[1;31mAttributeError\u001b[0m                            Traceback (most recent call last)",
      "\u001b[1;32m~\\AppData\\Local\\Temp/ipykernel_12624/307372282.py\u001b[0m in \u001b[0;36m<module>\u001b[1;34m\u001b[0m\n\u001b[0;32m      7\u001b[0m     \u001b[0ms\u001b[0m\u001b[1;33m.\u001b[0m\u001b[0mshow\u001b[0m\u001b[1;33m(\u001b[0m\u001b[1;34m'midi'\u001b[0m\u001b[1;33m)\u001b[0m\u001b[1;33m\u001b[0m\u001b[1;33m\u001b[0m\u001b[0m\n\u001b[0;32m      8\u001b[0m \u001b[1;33m\u001b[0m\u001b[0m\n\u001b[1;32m----> 9\u001b[1;33m \u001b[0mplayMidi\u001b[0m\u001b[1;33m(\u001b[0m\u001b[1;34m\"demo1.mid\"\u001b[0m\u001b[1;33m)\u001b[0m\u001b[1;33m\u001b[0m\u001b[1;33m\u001b[0m\u001b[0m\n\u001b[0m",
      "\u001b[1;32m~\\AppData\\Local\\Temp/ipykernel_12624/307372282.py\u001b[0m in \u001b[0;36mplayMidi\u001b[1;34m(filename)\u001b[0m\n\u001b[0;32m      1\u001b[0m \u001b[1;32mdef\u001b[0m \u001b[0mplayMidi\u001b[0m\u001b[1;33m(\u001b[0m\u001b[0mfilename\u001b[0m\u001b[1;33m)\u001b[0m\u001b[1;33m:\u001b[0m\u001b[1;33m\u001b[0m\u001b[1;33m\u001b[0m\u001b[0m\n\u001b[1;32m----> 2\u001b[1;33m     \u001b[0mmf\u001b[0m \u001b[1;33m=\u001b[0m \u001b[0mMidi\u001b[0m\u001b[1;33m.\u001b[0m\u001b[0mMidiFile\u001b[0m\u001b[1;33m(\u001b[0m\u001b[1;33m)\u001b[0m\u001b[1;33m\u001b[0m\u001b[1;33m\u001b[0m\u001b[0m\n\u001b[0m\u001b[0;32m      3\u001b[0m     \u001b[0mmf\u001b[0m\u001b[1;33m.\u001b[0m\u001b[0mopen\u001b[0m\u001b[1;33m(\u001b[0m\u001b[0mfilename\u001b[0m\u001b[1;33m)\u001b[0m\u001b[1;33m\u001b[0m\u001b[1;33m\u001b[0m\u001b[0m\n\u001b[0;32m      4\u001b[0m     \u001b[0mmf\u001b[0m\u001b[1;33m.\u001b[0m\u001b[0mread\u001b[0m\u001b[1;33m(\u001b[0m\u001b[1;33m)\u001b[0m\u001b[1;33m\u001b[0m\u001b[1;33m\u001b[0m\u001b[0m\n\u001b[0;32m      5\u001b[0m     \u001b[0mmf\u001b[0m\u001b[1;33m.\u001b[0m\u001b[0mclose\u001b[0m\u001b[1;33m(\u001b[0m\u001b[1;33m)\u001b[0m\u001b[1;33m\u001b[0m\u001b[1;33m\u001b[0m\u001b[0m\n",
      "\u001b[1;31mAttributeError\u001b[0m: type object 'Midi' has no attribute 'MidiFile'"
     ]
    }
   ],
   "source": [
    "\n",
    "def playMidi(filename):\n",
    "    mf = midi.MidiFile()\n",
    "    mf.open(filename)\n",
    "    mf.read()\n",
    "    mf.close()\n",
    "    s=midi.translate.midiFileToStream(mf)\n",
    "    s.show('midi')\n",
    "\n",
    "playMidi(\"demo1.mid\")"
   ]
  },
  {
   "cell_type": "code",
   "execution_count": 17,
   "id": "c19ed335",
   "metadata": {},
   "outputs": [
    {
     "data": {
      "image/png": "[encoded data removed]",
      "text/plain": [
       "<IPython.core.display.Image object>"
      ]
     },
     "metadata": {
      "image/png": {
       "height": 49,
       "width": 206
      }
     },
     "output_type": "display_data"
    }
   ],
   "source": [
    "from IPython.display import Image\n",
    "\n",
    "n = note.Note(\"D-\")\n",
    "n.show()"
   ]
  },
  {
   "cell_type": "code",
   "execution_count": 3,
   "id": "15dcdd78",
   "metadata": {},
   "outputs": [
    {
     "data": {
      "text/plain": [
       "<C>"
      ]
     },
     "execution_count": 3,
     "metadata": {},
     "output_type": "execute_result"
    }
   ],
   "source": [
    "Note(value=0, octave=5, dur=0.25, volume=127)"
   ]
  },
  {
   "cell_type": "code",
   "execution_count": 4,
   "id": "adbca3c7",
   "metadata": {},
   "outputs": [
    {
     "data": {
      "text/plain": [
       "<C>"
      ]
     },
     "execution_count": 4,
     "metadata": {},
     "output_type": "execute_result"
    }
   ],
   "source": [
    "Note(0, 5, 0.25, 127)"
   ]
  },
  {
   "cell_type": "code",
   "execution_count": 6,
   "id": "3890ebbe",
   "metadata": {},
   "outputs": [
    {
     "data": {
      "text/plain": [
       "5"
      ]
     },
     "execution_count": 6,
     "metadata": {},
     "output_type": "execute_result"
    }
   ],
   "source": [
    "a=Note()\n",
    "a.octave"
   ]
  },
  {
   "cell_type": "code",
   "execution_count": 7,
   "id": "3924a8e1",
   "metadata": {},
   "outputs": [
    {
     "data": {
      "text/plain": [
       "0"
      ]
     },
     "execution_count": 7,
     "metadata": {},
     "output_type": "execute_result"
    }
   ],
   "source": [
    "a.value"
   ]
  },
  {
   "cell_type": "code",
   "execution_count": 8,
   "id": "47c669c2",
   "metadata": {},
   "outputs": [
    {
     "data": {
      "text/plain": [
       "0.25"
      ]
     },
     "execution_count": 8,
     "metadata": {},
     "output_type": "execute_result"
    }
   ],
   "source": [
    "a.dur"
   ]
  },
  {
   "cell_type": "code",
   "execution_count": 9,
   "id": "03d892be",
   "metadata": {},
   "outputs": [
    {
     "data": {
      "text/plain": [
       "60"
      ]
     },
     "execution_count": 9,
     "metadata": {},
     "output_type": "execute_result"
    }
   ],
   "source": [
    "a.midi_number"
   ]
  },
  {
   "cell_type": "code",
   "execution_count": 10,
   "id": "d4b39b2d",
   "metadata": {},
   "outputs": [
    {
     "data": {
      "text/plain": [
       "<C>"
      ]
     },
     "execution_count": 10,
     "metadata": {},
     "output_type": "execute_result"
    }
   ],
   "source": [
    "Note(\"C4\")"
   ]
  },
  {
   "cell_type": "code",
   "execution_count": 14,
   "id": "60ff70b7",
   "metadata": {},
   "outputs": [],
   "source": [
    "notesList= NoteSeq(\"file://code-example/notes\")"
   ]
  },
  {
   "cell_type": "code",
   "execution_count": 15,
   "id": "21bc82d1",
   "metadata": {},
   "outputs": [],
   "source": [
    "xmidi = Midi(1, tempo=90)\n",
    "xmidi.seq_notes(notesList, track=0)\n",
    "xmidi.write(\"demo2.mid\")"
   ]
  },
  {
   "cell_type": "code",
   "execution_count": 24,
   "id": "7c659709",
   "metadata": {},
   "outputs": [],
   "source": [
    "def demo():\n",
    "    notes1 = NoteSeq(\"D4 F#8 A Bb4\")\n",
    "    notes2 = NoteSeq([Note(2, dur=1/4), Note(6, dur=1/8),\n",
    "    Note(9, dur=1/8), Note(10, dur=1/4)])\n",
    "    midi = Midi(number_tracks=2, tempo=90)\n",
    "    midi.seq_notes(notes1, track=0)\n",
    "    midi.seq_notes(notes2, track=1)\n",
    "    midi.write(\"midi/demo.mid\")"
   ]
  },
  {
   "cell_type": "code",
   "execution_count": 36,
   "id": "4f350621",
   "metadata": {},
   "outputs": [],
   "source": [
    "def play_list(pitch_list, octave_list, duration,\n",
    "    volume=120):\n",
    "    result = NoteSeq()\n",
    "    for pitch in pitch_list:\n",
    "        note = pitch % 12\n",
    "        octave = choice_if_list(octave_list)\n",
    "        dur = choice_if_list(duration)\n",
    "        vol = choice_if_list(volume)\n",
    "        result.append(Note(note, octave, dur, vol))\n",
    "    return result"
   ]
  },
  {
   "cell_type": "code",
   "execution_count": 38,
   "id": "ab21875e",
   "metadata": {},
   "outputs": [],
   "source": [
    "def gen_patterns(pattern, number_rotations=12, repeat=4):\n",
    "    result = NoteSeq()\n",
    "    for n in range(0, number_rotations):\n",
    "        rotation = pattern.rotate(n)\n",
    "        result.extend(rotation * repeat)\n",
    "    return result"
   ]
  },
  {
   "cell_type": "code",
   "execution_count": 56,
   "id": "3fbf9c6b",
   "metadata": {},
   "outputs": [],
   "source": [
    "def piano_phase(number_rotations=12, repeat=4):\n",
    "    pattern = NoteSeq(\"E16 F# B C#’’ D’’ F#’ E C#’’ B’ F# D’’ C#\")\n",
    "    piano1 = pattern * (number_rotations + 1) * repeat\n",
    "    piano2 = gen_patterns(pattern, number_rotations, repeat)\n",
    "    x = Midi(2, tempo=108)\n",
    "    x.seq_notes(piano1)\n",
    "    x.seq_notes(piano2, track=1, time=3*repeat)\n",
    "    x.write(\"midi/piano-phase.mid\")\n"
   ]
  },
  {
   "cell_type": "code",
   "execution_count": 57,
   "id": "e0337f83",
   "metadata": {},
   "outputs": [],
   "source": [
    "piano_phase(12,4)"
   ]
  },
  {
   "cell_type": "code",
   "execution_count": 58,
   "id": "847cf331",
   "metadata": {},
   "outputs": [],
   "source": [
    "\n",
    "\n",
    "notes1 = NoteSeq(\"C4 D E F G A B C''\")\n",
    "notes2 = NoteSeq(\"r1 r1 C4 D E F G A B C''\")\n",
    "\n",
    "table = [\n",
    "    (60, 261.63), # 261.63\n",
    "    (62, 280),    # 293.66\n",
    "    (64, 333),    # 329.63\n",
    "    (65, 349),    # 349.23\n",
    "    (67, 391.99), # 391.99\n",
    "    (69, 444),    # 440.00\n",
    "    (71, 510),    # 493.88\n",
    "    (72, 523.25)  # 523.25\n",
    "]\n",
    "\n",
    "m = Midi(2, tempo=120)\n",
    "m.seq_notes(notes1, track=0)\n",
    "m.seq_notes(notes2, track=1)\n",
    "m.change_tuning(0, table)\n",
    "m.write(\"micro.mid\")"
   ]
  },
  {
   "cell_type": "code",
   "execution_count": 59,
   "id": "967076d4",
   "metadata": {},
   "outputs": [],
   "source": [
    "from pyknon.genmidi import Midi\n",
    "from pyknon.music import NoteSeq\n",
    "\n",
    "# Notes on two tracks using the defaults\n",
    "\n",
    "notes1 = NoteSeq(\"C4.'' B8' A4 D\")\n",
    "notes2 = NoteSeq(\"E4 F G4. A8\")\n",
    "\n",
    "m = Midi(2, tempo=100, instrument=[12, 14])\n",
    "m.seq_notes(notes1, track=0)\n",
    "m.seq_notes(notes2, track=1)\n",
    "m.write(\"tracks.mid\")\n",
    "\n",
    "# Chords on two tracks using the defaults\n",
    "\n",
    "chords1 = [NoteSeq(\"C2 E G\"), NoteSeq(\"G2 B D\")]\n",
    "chords2 = [NoteSeq(\"C,4 E\"), NoteSeq(\"E, G\"), NoteSeq(\"G, B\"), NoteSeq(\"B, D'\")]\n",
    "\n",
    "midi = Midi(2, tempo=60, instrument=[40, 20])\n",
    "midi.seq_chords(chords1, track=0)\n",
    "midi.seq_chords(chords2, track=1)\n",
    "midi.write(\"chords.mid\")\n",
    "\n",
    "# Notes on two tracks using percussion\n",
    "\n",
    "# In the MIDI library, the tracks and channels are numbered from 0,\n",
    "# While the MIDI Standard is numbered from 1,\n",
    "# So to use percussion you must use channel 9 in the library\n",
    "\n",
    "n1 = NoteSeq(\"C4 D E F\")\n",
    "n2 = NoteSeq(\"C8 C G, G C' C G, G\")\n",
    "\n",
    "m2 = Midi(2, tempo=123, channel=[0, 9], instrument=[20, 40])\n",
    "m2.seq_notes(n1, track=0, channel=0)\n",
    "m2.seq_notes(n2, track=1, channel=9)\n",
    "m2.write(\"percussion.mid\")\n",
    "\n"
   ]
  },
  {
   "cell_type": "code",
   "execution_count": 18,
   "id": "a7215a24",
   "metadata": {},
   "outputs": [],
   "source": [
    "def abstraction():\n",
    " a = NoteSeq(\"C4. Eb8\")\n",
    " a1 = a.transp(5).stretch_dur(0.5)\n",
    " a2 = a.inv(\"Db’’\")\n",
    " a3 = a1.inv(8)\n",
    "\n",
    " A = a + a1 + a2 + a3\n",
    " A2 = A.transp(2)\n",
    " B = a1.transp(8) + a1.transp(\"Eb’’\")\n",
    "\n",
    " c = NoteSeq([Note(x.value, dur=0.125) for x in a + a1])\n",
    " C = (c.inv(\"Ab’’\") +\n",
    " c.inv(10) +\n",
    " c.stretch_interval(2).transp(2) +\n",
    " c.inv(\"G’’\") +\n",
    " c.inv(\"E’’\").stretch_interval(1) +\n",
    " c.inv(\"A\").stretch_interval(1)\n",
    " )\n",
    "\n",
    " a4 = a.stretch_dur(2).inv(6)\n",
    "\n",
    " Part1 = A + NoteSeq(\"C2\") + A2 + B\n",
    " Part2 = C + a4\n",
    "\n",
    " midi = Midi(1, tempo=90)\n",
    " midi.seq_notes(Part1 + Part2, track=0)\n",
    " midi.write(\"midi/abstraction.mid\")"
   ]
  },
  {
   "cell_type": "code",
   "execution_count": 406,
   "id": "0f5a4bc3",
   "metadata": {},
   "outputs": [],
   "source": [
    "abstraction()"
   ]
  },
  {
   "cell_type": "code",
   "execution_count": 407,
   "id": "46ad71c5",
   "metadata": {},
   "outputs": [
    {
     "data": {
      "text/html": [
       "\n",
       "                <div id='midiPlayerDiv540321'></div>\n",
       "                <link rel=\"stylesheet\" href=\"//cuthbertLab.github.io/music21j/css/m21.css\"\n",
       "                    type=\"text/css\" />\n",
       "                <script>\n",
       "                require.config({\n",
       "                    paths: {'music21': '//cuthbertLab.github.io/music21j/src/music21'}\n",
       "                });\n",
       "                require(['music21'], function() {\n",
       "                               mp = new music21.miditools.MidiPlayer();\n",
       "                               mp.addPlayer('#midiPlayerDiv540321');\n",
       "                               mp.base64Load('data:audio/midi;base64,TVRoZAAAAAYAAQACBABNVHJrAAAAFAD/UQMKLCsA/1gEBAIYCIgA/y8ATVRyawAAAcIA/wMHVHJhY2sgMADAAADgAEAAwACIAJA8eIwAgDwAAJA/eIQAgD8AAJBBeIYAgEEAAJBEeIIAgEQAAJA9eIwAgD0AAJA6eIQAgDoAAJBEeIYAgEQAAJBBeIIAgEEAAJA8eJAAgDwAAJA+eIwAgD4AAJBBeIQAgEEAAJBDeIYAgEMAAJBGeIIAgEYAAJA/eIwAgD8AAJA8eIQAgDwAAJBGeIYAgEYAAJBDeIIAgEMAAJBEeIYAgEQAAJBHeIIAgEcAAJA/eIYAgD8AAJBCeIIAgEIAAJBEZIQAgEQAAJBBZIQAgEEAAJA/ZIQAgD8AAJA8ZIQAgDwAAJBGZIQAgEYAAJBDZIQAgEMAAJBBZIQAgEEAAJA+ZIQAgD4AAJA+ZIQAgD4AAJBDZIQAgEMAAJBHZIQAgEcAAJBMZIQAgEwAAJBDZIQAgEMAAJBAZIQAgEAAAJA+ZIQAgD4AAJA7ZIQAgDsAAJBAZIQAgEAAAJA+ZIQAgD4AAJA9ZIQAgD0AAJA7ZIQAgDsAAJBFZIQAgEUAAJBDZIQAgEMAAJBCZIQAgEIAAJBAZIQAgEAAAJBCeJgAgEIAAJA/eIgAgD8AiAD/LwA=');\n",
       "                        });\n",
       "                </script>"
      ],
      "text/plain": [
       "<IPython.core.display.HTML object>"
      ]
     },
     "metadata": {},
     "output_type": "display_data"
    }
   ],
   "source": [
    "playMidi(\"midi/abstraction.mid\")"
   ]
  },
  {
   "cell_type": "code",
   "execution_count": 21,
   "id": "d7f90d6a",
   "metadata": {},
   "outputs": [],
   "source": [
    "s = corpus.parse('bach/bwv65.2.xml')"
   ]
  },
  {
   "cell_type": "code",
   "execution_count": 22,
   "id": "e5e1dbc7",
   "metadata": {},
   "outputs": [
    {
     "data": {
      "text/plain": [
       "<music21.key.Key of a minor>"
      ]
     },
     "execution_count": 22,
     "metadata": {},
     "output_type": "execute_result"
    }
   ],
   "source": [
    "s.analyze('key')"
   ]
  },
  {
   "cell_type": "code",
   "execution_count": 23,
   "id": "be1cc1e1",
   "metadata": {},
   "outputs": [
    {
     "data": {
      "image/png": "[encoded data removed]",
      "text/plain": [
       "<IPython.core.display.Image object>"
      ]
     },
     "metadata": {
      "image/png": {
       "height": 689,
       "width": 787
      }
     },
     "output_type": "display_data"
    }
   ],
   "source": [
    "s.show()"
   ]
  },
  {
   "cell_type": "code",
   "execution_count": 24,
   "id": "dc7132b5",
   "metadata": {},
   "outputs": [
    {
     "data": {
      "text/plain": [
       "<module 'music21.note' from 'C:\\\\Users\\\\omar_pc\\\\.virtualenvs\\\\ml-Gw2Rr0tM\\\\lib\\\\site-packages\\\\music21\\\\note.py'>"
      ]
     },
     "execution_count": 24,
     "metadata": {},
     "output_type": "execute_result"
    }
   ],
   "source": [
    "note"
   ]
  },
  {
   "cell_type": "code",
   "execution_count": 25,
   "id": "9b9bea50",
   "metadata": {},
   "outputs": [
    {
     "data": {
      "text/plain": [
       "['GeneralNote',\n",
       " 'Lyric',\n",
       " 'LyricException',\n",
       " 'NotRest',\n",
       " 'NotRestException',\n",
       " 'Note',\n",
       " 'NoteException',\n",
       " 'Rest',\n",
       " 'SYLLABIC_CHOICES',\n",
       " 'Unpitched',\n",
       " 'base',\n",
       " 'beam',\n",
       " 'common',\n",
       " 'duration',\n",
       " 'environLocal',\n",
       " 'environment',\n",
       " 'exceptions21',\n",
       " 'expressions',\n",
       " 'interval',\n",
       " 'noteheadTypeNames',\n",
       " 'pitch',\n",
       " 'prebase',\n",
       " 'stemDirectionNames',\n",
       " 'style',\n",
       " 'tie',\n",
       " 'volume']"
      ]
     },
     "execution_count": 25,
     "metadata": {},
     "output_type": "execute_result"
    }
   ],
   "source": [
    "dir(note)"
   ]
  },
  {
   "cell_type": "code",
   "execution_count": 26,
   "id": "a76e12db",
   "metadata": {},
   "outputs": [],
   "source": [
    "f = note.Note(\"F5\")"
   ]
  },
  {
   "cell_type": "code",
   "execution_count": 27,
   "id": "0e9a8db4",
   "metadata": {},
   "outputs": [
    {
     "data": {
      "text/plain": [
       "<music21.note.Note F>"
      ]
     },
     "execution_count": 27,
     "metadata": {},
     "output_type": "execute_result"
    }
   ],
   "source": [
    "f"
   ]
  },
  {
   "cell_type": "code",
   "execution_count": 28,
   "id": "bcee42f8",
   "metadata": {},
   "outputs": [
    {
     "data": {
      "text/plain": [
       "'F'"
      ]
     },
     "execution_count": 28,
     "metadata": {},
     "output_type": "execute_result"
    }
   ],
   "source": [
    "f.name"
   ]
  },
  {
   "cell_type": "code",
   "execution_count": 29,
   "id": "833c887b",
   "metadata": {},
   "outputs": [
    {
     "data": {
      "text/plain": [
       "5"
      ]
     },
     "execution_count": 29,
     "metadata": {},
     "output_type": "execute_result"
    }
   ],
   "source": [
    "f.octave"
   ]
  },
  {
   "cell_type": "code",
   "execution_count": 30,
   "id": "27754737",
   "metadata": {},
   "outputs": [
    {
     "data": {
      "text/plain": [
       "<music21.pitch.Pitch F5>"
      ]
     },
     "execution_count": 30,
     "metadata": {},
     "output_type": "execute_result"
    }
   ],
   "source": [
    "f.pitch"
   ]
  },
  {
   "cell_type": "code",
   "execution_count": 31,
   "id": "72448303",
   "metadata": {},
   "outputs": [
    {
     "data": {
      "text/plain": [
       "698.456462866008"
      ]
     },
     "execution_count": 31,
     "metadata": {},
     "output_type": "execute_result"
    }
   ],
   "source": [
    "f.pitch.frequency"
   ]
  },
  {
   "cell_type": "code",
   "execution_count": 32,
   "id": "7cb42d7e",
   "metadata": {},
   "outputs": [
    {
     "data": {
      "text/plain": [
       "'5'"
      ]
     },
     "execution_count": 32,
     "metadata": {},
     "output_type": "execute_result"
    }
   ],
   "source": [
    "f.pitch.pitchClassString"
   ]
  },
  {
   "cell_type": "code",
   "execution_count": 33,
   "id": "b437fd83",
   "metadata": {},
   "outputs": [],
   "source": [
    "bflat = note.Note(\"B-2\")"
   ]
  },
  {
   "cell_type": "code",
   "execution_count": 34,
   "id": "b9412658",
   "metadata": {},
   "outputs": [
    {
     "ename": "SyntaxError",
     "evalue": "cannot assign to operator (2736611904.py, line 1)",
     "output_type": "error",
     "traceback": [
      "\u001b[1;36m  Input \u001b[1;32mIn [34]\u001b[1;36m\u001b[0m\n\u001b[1;33m    b-flat = note.Note(\"B-2\")\u001b[0m\n\u001b[1;37m    ^\u001b[0m\n\u001b[1;31mSyntaxError\u001b[0m\u001b[1;31m:\u001b[0m cannot assign to operator\n"
     ]
    }
   ],
   "source": [
    "b-flat = note.Note(\"B-2\")"
   ]
  },
  {
   "cell_type": "code",
   "execution_count": 35,
   "id": "454127a5",
   "metadata": {},
   "outputs": [
    {
     "data": {
      "text/plain": [
       "<music21.pitch.Accidental flat>"
      ]
     },
     "execution_count": 35,
     "metadata": {},
     "output_type": "execute_result"
    }
   ],
   "source": [
    "bflat.pitch.accidental"
   ]
  },
  {
   "cell_type": "code",
   "execution_count": 36,
   "id": "83c6092e",
   "metadata": {},
   "outputs": [],
   "source": [
    "acc = bflat.pitch.accidental"
   ]
  },
  {
   "cell_type": "code",
   "execution_count": 37,
   "id": "08ed62fd",
   "metadata": {},
   "outputs": [
    {
     "data": {
      "text/plain": [
       "-1.0"
      ]
     },
     "execution_count": 37,
     "metadata": {},
     "output_type": "execute_result"
    }
   ],
   "source": [
    "acc.alter"
   ]
  },
  {
   "cell_type": "code",
   "execution_count": 38,
   "id": "a43f9cf6",
   "metadata": {},
   "outputs": [
    {
     "data": {
      "text/html": [
       "\n",
       "                <div id='midiPlayerDiv6876'></div>\n",
       "                <link rel=\"stylesheet\" href=\"//cuthbertLab.github.io/music21j/css/m21.css\"\n",
       "                    type=\"text/css\" />\n",
       "                <script>\n",
       "                require.config({\n",
       "                    paths: {'music21': '//cuthbertLab.github.io/music21j/src/music21'}\n",
       "                });\n",
       "                require(['music21'], function() {\n",
       "                               mp = new music21.miditools.MidiPlayer();\n",
       "                               mp.addPlayer('#midiPlayerDiv6876');\n",
       "                               mp.base64Load('data:audio/midi;base64,TVRoZAAAAAYAAQACBABNVHJrAAAAFAD/UQMHoSAA/1gEBAIYCIgA/y8ATVRyawAAABcA/wMAAOAAQIgAkE1aiACATQCIAP8vAA==');\n",
       "                        });\n",
       "                </script>"
      ],
      "text/plain": [
       "<IPython.core.display.HTML object>"
      ]
     },
     "metadata": {},
     "output_type": "display_data"
    }
   ],
   "source": [
    "f.show('midi')"
   ]
  },
  {
   "cell_type": "code",
   "execution_count": 39,
   "id": "12fefd26",
   "metadata": {},
   "outputs": [],
   "source": [
    "d = bflat.transpose(\"M3\")"
   ]
  },
  {
   "cell_type": "code",
   "execution_count": 40,
   "id": "9dfbf6e4",
   "metadata": {},
   "outputs": [
    {
     "data": {
      "text/plain": [
       "<music21.note.Note D>"
      ]
     },
     "execution_count": 40,
     "metadata": {},
     "output_type": "execute_result"
    }
   ],
   "source": [
    "d"
   ]
  },
  {
   "cell_type": "code",
   "execution_count": 41,
   "id": "c434d345",
   "metadata": {},
   "outputs": [
    {
     "data": {
      "text/plain": [
       "<music21.note.Note B->"
      ]
     },
     "execution_count": 41,
     "metadata": {},
     "output_type": "execute_result"
    }
   ],
   "source": [
    "bflat"
   ]
  },
  {
   "cell_type": "code",
   "execution_count": 42,
   "id": "1c2e55c7",
   "metadata": {},
   "outputs": [
    {
     "data": {
      "image/png": "[encoded data removed]",
      "text/plain": [
       "<IPython.core.display.Image object>"
      ]
     },
     "metadata": {
      "image/png": {
       "height": 36,
       "width": 192
      }
     },
     "output_type": "display_data"
    }
   ],
   "source": [
    "d.show()"
   ]
  },
  {
   "cell_type": "code",
   "execution_count": 43,
   "id": "2477b461",
   "metadata": {},
   "outputs": [
    {
     "data": {
      "text/html": [
       "\n",
       "                <div id='midiPlayerDiv6945'></div>\n",
       "                <link rel=\"stylesheet\" href=\"//cuthbertLab.github.io/music21j/css/m21.css\"\n",
       "                    type=\"text/css\" />\n",
       "                <script>\n",
       "                require.config({\n",
       "                    paths: {'music21': '//cuthbertLab.github.io/music21j/src/music21'}\n",
       "                });\n",
       "                require(['music21'], function() {\n",
       "                               mp = new music21.miditools.MidiPlayer();\n",
       "                               mp.addPlayer('#midiPlayerDiv6945');\n",
       "                               mp.base64Load('data:audio/midi;base64,TVRoZAAAAAYAAQACBABNVHJrAAAAFAD/UQMHoSAA/1gEBAIYCIgA/y8ATVRyawAAABcA/wMAAOAAQIgAkDJaiACAMgCIAP8vAA==');\n",
       "                        });\n",
       "                </script>"
      ],
      "text/plain": [
       "<IPython.core.display.HTML object>"
      ]
     },
     "metadata": {},
     "output_type": "display_data"
    }
   ],
   "source": [
    "d.show('midi')"
   ]
  },
  {
   "cell_type": "code",
   "execution_count": 44,
   "id": "df657844",
   "metadata": {},
   "outputs": [],
   "source": [
    "r = note.Rest()"
   ]
  },
  {
   "cell_type": "code",
   "execution_count": 45,
   "id": "656fdcc4",
   "metadata": {},
   "outputs": [
    {
     "data": {
      "image/png": "[encoded data removed]",
      "text/plain": [
       "<IPython.core.display.Image object>"
      ]
     },
     "metadata": {
      "image/png": {
       "height": 49,
       "width": 191
      }
     },
     "output_type": "display_data"
    }
   ],
   "source": [
    "r.show()"
   ]
  },
  {
   "cell_type": "code",
   "execution_count": 47,
   "id": "969ee980",
   "metadata": {},
   "outputs": [
    {
     "data": {
      "text/html": [
       "\n",
       "                <div id='midiPlayerDiv7014'></div>\n",
       "                <link rel=\"stylesheet\" href=\"//cuthbertLab.github.io/music21j/css/m21.css\"\n",
       "                    type=\"text/css\" />\n",
       "                <script>\n",
       "                require.config({\n",
       "                    paths: {'music21': '//cuthbertLab.github.io/music21j/src/music21'}\n",
       "                });\n",
       "                require(['music21'], function() {\n",
       "                               mp = new music21.miditools.MidiPlayer();\n",
       "                               mp.addPlayer('#midiPlayerDiv7014');\n",
       "                               mp.base64Load('data:audio/midi;base64,TVRoZAAAAAYAAQACBABNVHJrAAAAFAD/UQMHoSAA/1gEBAIYCIgA/y8ATVRyawAAAAkA/wMAiAD/LwA=');\n",
       "                        });\n",
       "                </script>"
      ],
      "text/plain": [
       "<IPython.core.display.HTML object>"
      ]
     },
     "metadata": {},
     "output_type": "display_data"
    }
   ],
   "source": [
    "r.show('midi')"
   ]
  },
  {
   "cell_type": "code",
   "execution_count": 48,
   "id": "f842c5b0",
   "metadata": {},
   "outputs": [],
   "source": [
    "p1 = pitch.Pitch('b-4')"
   ]
  },
  {
   "cell_type": "code",
   "execution_count": 49,
   "id": "7b72aa0f",
   "metadata": {},
   "outputs": [
    {
     "data": {
      "text/plain": [
       "4"
      ]
     },
     "execution_count": 49,
     "metadata": {},
     "output_type": "execute_result"
    }
   ],
   "source": [
    "p1.octave"
   ]
  },
  {
   "cell_type": "code",
   "execution_count": 50,
   "id": "7ecc0b29",
   "metadata": {},
   "outputs": [
    {
     "data": {
      "text/plain": [
       "10"
      ]
     },
     "execution_count": 50,
     "metadata": {},
     "output_type": "execute_result"
    }
   ],
   "source": [
    "p1.pitchClass"
   ]
  },
  {
   "cell_type": "code",
   "execution_count": 51,
   "id": "30f8920f",
   "metadata": {},
   "outputs": [
    {
     "data": {
      "text/plain": [
       "'B-'"
      ]
     },
     "execution_count": 51,
     "metadata": {},
     "output_type": "execute_result"
    }
   ],
   "source": [
    "p1.name"
   ]
  },
  {
   "cell_type": "code",
   "execution_count": 52,
   "id": "7f810d48",
   "metadata": {},
   "outputs": [
    {
     "data": {
      "text/plain": [
       "-1.0"
      ]
     },
     "execution_count": 52,
     "metadata": {},
     "output_type": "execute_result"
    }
   ],
   "source": [
    "p1.accidental.alter"
   ]
  },
  {
   "cell_type": "code",
   "execution_count": 53,
   "id": "5896aa81",
   "metadata": {},
   "outputs": [
    {
     "data": {
      "text/plain": [
       "'B-4'"
      ]
     },
     "execution_count": 53,
     "metadata": {},
     "output_type": "execute_result"
    }
   ],
   "source": [
    "p1.nameWithOctave"
   ]
  },
  {
   "cell_type": "code",
   "execution_count": 54,
   "id": "8cdab904",
   "metadata": {},
   "outputs": [
    {
     "data": {
      "text/plain": [
       "70"
      ]
     },
     "execution_count": 54,
     "metadata": {},
     "output_type": "execute_result"
    }
   ],
   "source": [
    "p1.midi"
   ]
  },
  {
   "cell_type": "code",
   "execution_count": 55,
   "id": "39ca094e",
   "metadata": {},
   "outputs": [
    {
     "data": {
      "text/plain": [
       "'D#3'"
      ]
     },
     "execution_count": 55,
     "metadata": {},
     "output_type": "execute_result"
    }
   ],
   "source": [
    "p1.name = 'd#'\n",
    "p1.octave = 3\n",
    "p1.nameWithOctave"
   ]
  },
  {
   "cell_type": "code",
   "execution_count": 56,
   "id": "8e006db5",
   "metadata": {},
   "outputs": [
    {
     "data": {
      "text/plain": [
       "<music21.pitch.Pitch C##4>"
      ]
     },
     "execution_count": 56,
     "metadata": {},
     "output_type": "execute_result"
    }
   ],
   "source": [
    "p2 = p1.transpose('M7')\n",
    "p2"
   ]
  },
  {
   "cell_type": "code",
   "execution_count": 57,
   "id": "865c0710",
   "metadata": {},
   "outputs": [
    {
     "ename": "NameError",
     "evalue": "name 'csharp' is not defined",
     "output_type": "error",
     "traceback": [
      "\u001b[1;31m---------------------------------------------------------------------------\u001b[0m",
      "\u001b[1;31mNameError\u001b[0m                                 Traceback (most recent call last)",
      "Input \u001b[1;32mIn [57]\u001b[0m, in \u001b[0;36m<cell line: 1>\u001b[1;34m()\u001b[0m\n\u001b[1;32m----> 1\u001b[0m \u001b[38;5;28mprint\u001b[39m(\u001b[43mcsharp\u001b[49m\u001b[38;5;241m.\u001b[39mpitch\u001b[38;5;241m.\u001b[39municodeName)\n",
      "\u001b[1;31mNameError\u001b[0m: name 'csharp' is not defined"
     ]
    }
   ],
   "source": [
    "print(csharp.pitch.unicodeName)"
   ]
  },
  {
   "cell_type": "code",
   "execution_count": 58,
   "id": "c23ce2d0",
   "metadata": {},
   "outputs": [],
   "source": [
    "halfDuration = duration.Duration('half')"
   ]
  },
  {
   "cell_type": "code",
   "execution_count": 59,
   "id": "3cb2f6b3",
   "metadata": {},
   "outputs": [],
   "source": [
    "otherNote = note.Note(\"F6\")\n",
    "otherNote.lyric = \"I'm the Queen of the Night!\""
   ]
  },
  {
   "cell_type": "code",
   "execution_count": 62,
   "id": "50057368",
   "metadata": {},
   "outputs": [],
   "source": [
    "n1.addLyric(n1.nameWithOctave)\n",
    "n1.addLyric(n1.pitch.pitchClassString)"
   ]
  },
  {
   "cell_type": "code",
   "execution_count": 61,
   "id": "45a7f45a",
   "metadata": {},
   "outputs": [
    {
     "data": {
      "text/plain": [
       "<music21.pitch.Pitch C4>"
      ]
     },
     "execution_count": 61,
     "metadata": {},
     "output_type": "execute_result"
    }
   ],
   "source": [
    "n1 = note.Note()\n",
    "n1.pitch"
   ]
  },
  {
   "cell_type": "code",
   "execution_count": 63,
   "id": "b271214e",
   "metadata": {},
   "outputs": [],
   "source": [
    "n1.addLyric(f'QL: {n1.quarterLength}')"
   ]
  },
  {
   "cell_type": "code",
   "execution_count": 64,
   "id": "c9e93d15",
   "metadata": {},
   "outputs": [
    {
     "data": {
      "image/png": "[encoded data removed]",
      "text/plain": [
       "<IPython.core.display.Image object>"
      ]
     },
     "metadata": {
      "image/png": {
       "height": 97,
       "width": 265
      }
     },
     "output_type": "display_data"
    }
   ],
   "source": [
    "n1.show()"
   ]
  },
  {
   "cell_type": "code",
   "execution_count": 65,
   "id": "4c11f0a8",
   "metadata": {},
   "outputs": [
    {
     "data": {
      "text/html": [
       "\n",
       "                <div id='midiPlayerDiv7083'></div>\n",
       "                <link rel=\"stylesheet\" href=\"//cuthbertLab.github.io/music21j/css/m21.css\"\n",
       "                    type=\"text/css\" />\n",
       "                <script>\n",
       "                require.config({\n",
       "                    paths: {'music21': '//cuthbertLab.github.io/music21j/src/music21'}\n",
       "                });\n",
       "                require(['music21'], function() {\n",
       "                               mp = new music21.miditools.MidiPlayer();\n",
       "                               mp.addPlayer('#midiPlayerDiv7083');\n",
       "                               mp.base64Load('data:audio/midi;base64,TVRoZAAAAAYAAQACBABNVHJrAAAAFAD/UQMHoSAA/1gEBAIYCIgA/y8ATVRyawAAABcA/wMAAOAAQIgAkDxaiACAPACIAP8vAA==');\n",
       "                        });\n",
       "                </script>"
      ],
      "text/plain": [
       "<IPython.core.display.HTML object>"
      ]
     },
     "metadata": {},
     "output_type": "display_data"
    }
   ],
   "source": [
    "n1.show('midi')"
   ]
  },
  {
   "cell_type": "code",
   "execution_count": 66,
   "id": "7af4efdf",
   "metadata": {},
   "outputs": [],
   "source": [
    "note1 = note.Note(\"C4\")\n",
    "note2 = note.Note(\"F#4\")"
   ]
  },
  {
   "cell_type": "code",
   "execution_count": 67,
   "id": "a3c8dfd5",
   "metadata": {},
   "outputs": [
    {
     "data": {
      "text/plain": [
       "2.0"
      ]
     },
     "execution_count": 67,
     "metadata": {},
     "output_type": "execute_result"
    }
   ],
   "source": [
    "note1.duration.type = 'half'\n",
    "note1.duration.quarterLength"
   ]
  },
  {
   "cell_type": "code",
   "execution_count": 68,
   "id": "2ace392f",
   "metadata": {},
   "outputs": [
    {
     "data": {
      "text/plain": [
       "1.0"
      ]
     },
     "execution_count": 68,
     "metadata": {},
     "output_type": "execute_result"
    }
   ],
   "source": [
    "note2.duration.quarterLength"
   ]
  },
  {
   "cell_type": "code",
   "execution_count": 69,
   "id": "7e62950b",
   "metadata": {},
   "outputs": [
    {
     "name": "stdout",
     "output_type": "stream",
     "text": [
      "C\n"
     ]
    }
   ],
   "source": [
    "print(note1.step)"
   ]
  },
  {
   "cell_type": "code",
   "execution_count": 70,
   "id": "d74fd791",
   "metadata": {},
   "outputs": [
    {
     "name": "stdout",
     "output_type": "stream",
     "text": [
      "F\n"
     ]
    }
   ],
   "source": [
    "print(note2.step)"
   ]
  },
  {
   "cell_type": "code",
   "execution_count": 71,
   "id": "1733e924",
   "metadata": {},
   "outputs": [],
   "source": [
    "noteList = [note1, note2]\n"
   ]
  },
  {
   "cell_type": "code",
   "execution_count": 72,
   "id": "7641953e",
   "metadata": {},
   "outputs": [
    {
     "name": "stdout",
     "output_type": "stream",
     "text": [
      "[<music21.note.Note C>, <music21.note.Note F#>]\n"
     ]
    }
   ],
   "source": [
    "print(noteList)"
   ]
  },
  {
   "cell_type": "code",
   "execution_count": 77,
   "id": "cd1d7097",
   "metadata": {},
   "outputs": [
    {
     "name": "stdout",
     "output_type": "stream",
     "text": [
      "C\n",
      "F\n",
      "B\n"
     ]
    }
   ],
   "source": [
    "for thisNote in noteList:\n",
    "    print(thisNote.step)"
   ]
  },
  {
   "cell_type": "code",
   "execution_count": 74,
   "id": "782d4e7e",
   "metadata": {},
   "outputs": [],
   "source": [
    "note3 = note.Note(\"B-2\")"
   ]
  },
  {
   "cell_type": "code",
   "execution_count": 75,
   "id": "0cd2fbe6",
   "metadata": {},
   "outputs": [],
   "source": [
    "noteList.append(note3)"
   ]
  },
  {
   "cell_type": "code",
   "execution_count": 76,
   "id": "42330f49",
   "metadata": {},
   "outputs": [
    {
     "data": {
      "text/plain": [
       "3"
      ]
     },
     "execution_count": 76,
     "metadata": {},
     "output_type": "execute_result"
    }
   ],
   "source": [
    "len(noteList)"
   ]
  },
  {
   "cell_type": "code",
   "execution_count": 78,
   "id": "8792d969",
   "metadata": {},
   "outputs": [
    {
     "data": {
      "text/plain": [
       "<music21.note.Note B->"
      ]
     },
     "execution_count": 78,
     "metadata": {},
     "output_type": "execute_result"
    }
   ],
   "source": [
    "noteList[-1]"
   ]
  },
  {
   "cell_type": "code",
   "execution_count": 79,
   "id": "f99d4db8",
   "metadata": {},
   "outputs": [],
   "source": [
    "stream1 = stream.Stream()"
   ]
  },
  {
   "cell_type": "code",
   "execution_count": 80,
   "id": "6bd3a223",
   "metadata": {},
   "outputs": [],
   "source": [
    "stream1.append(note1)\n",
    "stream1.append(note2)\n",
    "stream1.append(note3)"
   ]
  },
  {
   "cell_type": "code",
   "execution_count": 81,
   "id": "bd42348a",
   "metadata": {},
   "outputs": [
    {
     "data": {
      "image/png": "[encoded data removed]",
      "text/plain": [
       "<IPython.core.display.Image object>"
      ]
     },
     "metadata": {
      "image/png": {
       "height": 49,
       "width": 288
      }
     },
     "output_type": "display_data"
    }
   ],
   "source": [
    "stream2 = stream.Stream()\n",
    "n3 = note.Note('D#5')  # octave values can be included in creation arguments\n",
    "stream2.repeatAppend(n3, 4)\n",
    "stream2.show()"
   ]
  },
  {
   "cell_type": "code",
   "execution_count": 82,
   "id": "7ceb6edf",
   "metadata": {},
   "outputs": [
    {
     "name": "stdout",
     "output_type": "stream",
     "text": [
      "{0.0} <music21.note.Note C>\n",
      "{2.0} <music21.note.Note F#>\n",
      "{3.0} <music21.note.Note B->\n"
     ]
    }
   ],
   "source": [
    "stream1.show('text')"
   ]
  },
  {
   "cell_type": "code",
   "execution_count": 83,
   "id": "87450f18",
   "metadata": {},
   "outputs": [
    {
     "data": {
      "image/png": "[encoded data removed]",
      "text/plain": [
       "<IPython.core.display.Image object>"
      ]
     },
     "metadata": {
      "image/png": {
       "height": 54,
       "width": 299
      }
     },
     "output_type": "display_data"
    }
   ],
   "source": [
    "stream1.show()"
   ]
  },
  {
   "cell_type": "code",
   "execution_count": 84,
   "id": "e7074a7b",
   "metadata": {},
   "outputs": [
    {
     "data": {
      "text/html": [
       "\n",
       "                <div id='midiPlayerDiv7327'></div>\n",
       "                <link rel=\"stylesheet\" href=\"//cuthbertLab.github.io/music21j/css/m21.css\"\n",
       "                    type=\"text/css\" />\n",
       "                <script>\n",
       "                require.config({\n",
       "                    paths: {'music21': '//cuthbertLab.github.io/music21j/src/music21'}\n",
       "                });\n",
       "                require(['music21'], function() {\n",
       "                               mp = new music21.miditools.MidiPlayer();\n",
       "                               mp.addPlayer('#midiPlayerDiv7327');\n",
       "                               mp.base64Load('data:audio/midi;base64,TVRoZAAAAAYAAQACBABNVHJrAAAAFAD/UQMHoSAA/1gEBAIYCIgA/y8ATVRyawAAACkA/wMAAOAAQIgAkDxakACAPAAAkEJaiACAQgAAkC5aiACALgCIAP8vAA==');\n",
       "                        });\n",
       "                </script>"
      ],
      "text/plain": [
       "<IPython.core.display.HTML object>"
      ]
     },
     "metadata": {},
     "output_type": "display_data"
    }
   ],
   "source": [
    "stream1.show('midi')"
   ]
  },
  {
   "cell_type": "code",
   "execution_count": null,
   "id": "09a0333b",
   "metadata": {},
   "outputs": [],
   "source": [
    "stream1.show('midi')"
   ]
  },
  {
   "cell_type": "code",
   "execution_count": 138,
   "id": "eaf32984",
   "metadata": {},
   "outputs": [
    {
     "ename": "NameError",
     "evalue": "name 'note_name' is not defined",
     "output_type": "error",
     "traceback": [
      "\u001b[1;31m---------------------------------------------------------------------------\u001b[0m",
      "\u001b[1;31mNameError\u001b[0m                                 Traceback (most recent call last)",
      "Input \u001b[1;32mIn [138]\u001b[0m, in \u001b[0;36m<cell line: 1>\u001b[1;34m()\u001b[0m\n\u001b[1;32m----> 1\u001b[0m \u001b[43mnote_name\u001b[49m(\u001b[38;5;241m0\u001b[39m)\n",
      "\u001b[1;31mNameError\u001b[0m: name 'note_name' is not defined"
     ]
    }
   ],
   "source": [
    "note_name(0)"
   ]
  },
  {
   "cell_type": "code",
   "execution_count": 150,
   "id": "8493c0d9",
   "metadata": {},
   "outputs": [],
   "source": [
    "def mod12(n):\n",
    "    return n % 12\n",
    "def rotate(item, n=1):\n",
    "    modn = n % len(item)\n",
    "    return item[modn:] + item[0:modn]"
   ]
  },
  {
   "cell_type": "code",
   "execution_count": 141,
   "id": "de9ffacd",
   "metadata": {},
   "outputs": [
    {
     "data": {
      "text/plain": [
       "[6, 8, 10, 0, 2, 4]"
      ]
     },
     "execution_count": 141,
     "metadata": {},
     "output_type": "execute_result"
    }
   ],
   "source": [
    ">>> scale = [0, 2, 4, 6, 8, 10]\n",
    ">>> [0, 2, 4, 6, 8, 10]\n",
    ">>> rotate(scale, 3)\n",
    ">>> [6, 8, 10, 0, 2, 4]"
   ]
  },
  {
   "cell_type": "code",
   "execution_count": 145,
   "id": "d337a096",
   "metadata": {},
   "outputs": [
    {
     "data": {
      "text/plain": [
       "['E', 'F', 'G', 'A', 'B', 'C', 'D']"
      ]
     },
     "execution_count": 145,
     "metadata": {},
     "output_type": "execute_result"
    }
   ],
   "source": [
    ">>> dorian = \"D E F G A B C\".split()\n",
    ">>> ['D', 'E', 'F', 'G', 'A', 'B', 'C']\n",
    ">>> phrygian = rotate(dorian)\n",
    "phrygian"
   ]
  },
  {
   "cell_type": "code",
   "execution_count": 151,
   "id": "a5d21a44",
   "metadata": {},
   "outputs": [
    {
     "data": {
      "text/plain": [
       "True"
      ]
     },
     "execution_count": 151,
     "metadata": {},
     "output_type": "execute_result"
    }
   ],
   "source": [
    "def inversion(notes, index=0):\n",
    "    return [mod12(index - n) for n in notes]\n",
    "\n",
    "chord = [0, 4, 7]\n",
    "[0, 4, 7]\n",
    "chord == inversion(inversion(chord))"
   ]
  },
  {
   "cell_type": "code",
   "execution_count": 152,
   "id": "ffde4cc7",
   "metadata": {},
   "outputs": [
    {
     "ename": "NameError",
     "evalue": "name 'interval_name' is not defined",
     "output_type": "error",
     "traceback": [
      "\u001b[1;31m---------------------------------------------------------------------------\u001b[0m",
      "\u001b[1;31mNameError\u001b[0m                                 Traceback (most recent call last)",
      "Input \u001b[1;32mIn [152]\u001b[0m, in \u001b[0;36m<cell line: 1>\u001b[1;34m()\u001b[0m\n\u001b[1;32m----> 1\u001b[0m \u001b[43minterval_name\u001b[49m(\u001b[38;5;124m\"\u001b[39m\u001b[38;5;124mC\u001b[39m\u001b[38;5;124m\"\u001b[39m, \u001b[38;5;124m\"\u001b[39m\u001b[38;5;124mDb\u001b[39m\u001b[38;5;124m\"\u001b[39m)\n",
      "\u001b[1;31mNameError\u001b[0m: name 'interval_name' is not defined"
     ]
    }
   ],
   "source": [
    "interval_name(\"C\", \"Db\")"
   ]
  },
  {
   "cell_type": "code",
   "execution_count": 153,
   "id": "eb8c2754",
   "metadata": {},
   "outputs": [
    {
     "data": {
      "text/plain": [
       "<D>"
      ]
     },
     "execution_count": 153,
     "metadata": {},
     "output_type": "execute_result"
    }
   ],
   "source": [
    "Note(2)"
   ]
  },
  {
   "cell_type": "code",
   "execution_count": 157,
   "id": "b00c5ad7",
   "metadata": {},
   "outputs": [],
   "source": [
    "d=Note(\"D\")"
   ]
  },
  {
   "cell_type": "code",
   "execution_count": 158,
   "id": "c768065a",
   "metadata": {},
   "outputs": [
    {
     "data": {
      "text/plain": [
       "<F>"
      ]
     },
     "execution_count": 158,
     "metadata": {},
     "output_type": "execute_result"
    }
   ],
   "source": [
    "d.transposition(3)"
   ]
  },
  {
   "cell_type": "code",
   "execution_count": 159,
   "id": "ba5dd5c9",
   "metadata": {},
   "outputs": [
    {
     "data": {
      "text/plain": [
       "<A#>"
      ]
     },
     "execution_count": 159,
     "metadata": {},
     "output_type": "execute_result"
    }
   ],
   "source": [
    "d.inversion()"
   ]
  },
  {
   "cell_type": "code",
   "execution_count": 160,
   "id": "b7cc0495",
   "metadata": {},
   "outputs": [
    {
     "data": {
      "text/plain": [
       "<A#>"
      ]
     },
     "execution_count": 160,
     "metadata": {},
     "output_type": "execute_result"
    }
   ],
   "source": [
    "d.inversion(initial_octave=8)"
   ]
  },
  {
   "cell_type": "code",
   "execution_count": 161,
   "id": "d369243d",
   "metadata": {},
   "outputs": [
    {
     "data": {
      "text/plain": [
       "0.25"
      ]
     },
     "execution_count": 161,
     "metadata": {},
     "output_type": "execute_result"
    }
   ],
   "source": [
    "d.dur"
   ]
  },
  {
   "cell_type": "code",
   "execution_count": 162,
   "id": "23718a0c",
   "metadata": {},
   "outputs": [],
   "source": [
    "d1 = d.stretch_dur(2)"
   ]
  },
  {
   "cell_type": "code",
   "execution_count": 163,
   "id": "213a3d9f",
   "metadata": {},
   "outputs": [
    {
     "data": {
      "text/plain": [
       "0.5"
      ]
     },
     "execution_count": 163,
     "metadata": {},
     "output_type": "execute_result"
    }
   ],
   "source": [
    "d1.dur"
   ]
  },
  {
   "cell_type": "code",
   "execution_count": 164,
   "id": "3919710b",
   "metadata": {},
   "outputs": [],
   "source": [
    "d2 = d.stretch_dur(0.5)"
   ]
  },
  {
   "cell_type": "code",
   "execution_count": 165,
   "id": "b5ccd969",
   "metadata": {},
   "outputs": [
    {
     "data": {
      "text/plain": [
       "0.125"
      ]
     },
     "execution_count": 165,
     "metadata": {},
     "output_type": "execute_result"
    }
   ],
   "source": [
    "d2.dur"
   ]
  },
  {
   "cell_type": "code",
   "execution_count": 169,
   "id": "31e293e6",
   "metadata": {},
   "outputs": [
    {
     "data": {
      "text/plain": [
       "<Seq: [<C>, <R: 1>, <C#>]>"
      ]
     },
     "execution_count": 169,
     "metadata": {},
     "output_type": "execute_result"
    }
   ],
   "source": [
    "NoteSeq([Note(0), Rest(1), Note(\"C#8\")])"
   ]
  },
  {
   "cell_type": "code",
   "execution_count": 172,
   "id": "5ab13515",
   "metadata": {},
   "outputs": [
    {
     "data": {
      "text/plain": [
       "<Seq: [<C#>, <D#>]>"
      ]
     },
     "execution_count": 172,
     "metadata": {},
     "output_type": "execute_result"
    }
   ],
   "source": [
    "NoteSeq(\"C#2’ D#4’’\")"
   ]
  },
  {
   "cell_type": "code",
   "execution_count": 196,
   "id": "b61a68b3",
   "metadata": {},
   "outputs": [],
   "source": [
    "def demo():\n",
    "    notes1 = NoteSeq(\"D4 F#8 G Bb4\")\n",
    "  #  notes2 = NoteSeq([Note(2, dur=1/4), Note(6, dur=1/8), Note(9, dur=1/8), Note(10, dur=1/4)])\n",
    "    midi = Midi(number_tracks=1, tempo=90)\n",
    "    midi.seq_notes(notes1, track=0)\n",
    "    #midi.seq_notes(notes2, track=0)\n",
    "    midi.write(\"midi/demo11.mid\")"
   ]
  },
  {
   "cell_type": "code",
   "execution_count": 221,
   "id": "505ec1dd",
   "metadata": {},
   "outputs": [],
   "source": [
    "def demo12():\n",
    "    seq1 = NoteSeq(\"C D E\")\n",
    "    seq2 = NoteSeq(\"F G A A#\")\n",
    "    midi = Midi()\n",
    "    midi.seq_notes(seq1)\n",
    "    midi.seq_notes(seq2)\n",
    "    midi.write(\"foo.mid\")\n",
    "    playMidi(\"foo.mid\")"
   ]
  },
  {
   "cell_type": "code",
   "execution_count": 229,
   "id": "8ff5b559",
   "metadata": {},
   "outputs": [
    {
     "data": {
      "text/html": [
       "\n",
       "                <div id='midiPlayerDiv12519'></div>\n",
       "                <link rel=\"stylesheet\" href=\"//cuthbertLab.github.io/music21j/css/m21.css\"\n",
       "                    type=\"text/css\" />\n",
       "                <script>\n",
       "                require.config({\n",
       "                    paths: {'music21': '//cuthbertLab.github.io/music21j/src/music21'}\n",
       "                });\n",
       "                require(['music21'], function() {\n",
       "                               mp = new music21.miditools.MidiPlayer();\n",
       "                               mp.addPlayer('#midiPlayerDiv12519');\n",
       "                               mp.base64Load('data:audio/midi;base64,TVRoZAAAAAYAAQACBABNVHJrAAAAFAD/UQMPQkAA/1gEBAIYCIgA/y8ATVRyawAAAFcA/wMHVHJhY2sgMADAAADgAEAAwACIAJA8eACQQXiIAIA8AACAQQAAkD54AJBDeIgAgD4AAIBDAACQQHgAkEV4iACAQAAAgEUAAJBGeIgAgEYAiAD/LwA=');\n",
       "                        });\n",
       "                </script>"
      ],
      "text/plain": [
       "<IPython.core.display.HTML object>"
      ]
     },
     "metadata": {},
     "output_type": "display_data"
    },
    {
     "data": {
      "text/plain": [
       "<Seq: [<C>, <D>, <E>]>"
      ]
     },
     "execution_count": 229,
     "metadata": {},
     "output_type": "execute_result"
    }
   ],
   "source": [
    "demo12()\n",
    "seq1 = NoteSeq(\"C D E\")\n",
    "seq1\n",
    "#n = note.Note(seq1)\n",
    "#n.show()"
   ]
  },
  {
   "cell_type": "code",
   "execution_count": 276,
   "id": "0a0067e8",
   "metadata": {},
   "outputs": [],
   "source": [
    "from Code.random_combination import *\n",
    "from random import choice\n",
    "\n",
    "def random_notes(pitch_list, octave_list, duration,\n",
    "    number_of_notes, volume=120):\n",
    "    result = NoteSeq()\n",
    "    for x in range(0, number_of_notes):\n",
    "        pitch = choice(pitch_list)\n",
    "        octave = choice_if_list(octave_list)\n",
    "        dur = choice_if_list(duration)\n",
    "        vol = choice_if_list(volume)\n",
    "        result.append(Note(pitch, octave, dur, vol))\n",
    "    return result"
   ]
  },
  {
   "cell_type": "code",
   "execution_count": 252,
   "id": "c36d1287",
   "metadata": {},
   "outputs": [
    {
     "data": {
      "text/plain": [
       "<Seq: [<G#>, <D#>, <B>, <D>, <A#>]>"
      ]
     },
     "execution_count": 252,
     "metadata": {},
     "output_type": "execute_result"
    }
   ],
   "source": [
    "random_notes(range(0, 12), range(5, 7), [0.25, 0.5, 1], 5)"
   ]
  },
  {
   "cell_type": "code",
   "execution_count": 253,
   "id": "2afd97f0",
   "metadata": {},
   "outputs": [
    {
     "data": {
      "text/plain": [
       "<Seq: [<G>, <D>, <E>, <G>, <E>]>"
      ]
     },
     "execution_count": 253,
     "metadata": {},
     "output_type": "execute_result"
    }
   ],
   "source": [
    "random_notes([0, 2, 4, 7, 9], 5, 0.5, 5)"
   ]
  },
  {
   "cell_type": "code",
   "execution_count": 273,
   "id": "3571b070",
   "metadata": {},
   "outputs": [],
   "source": [
    "from pyknon.genmidi import Midi\n",
    "def random1():\n",
    "    #chromatic = range(0, 12)\n",
    "    #durations = [1/64, 1/32, 1/16, 1/8, 1/4, 1/2, 1]\n",
    "    #notes1 = random_notes(chromatic,range(0, 9),durations,100, range(0, 128, 20))\n",
    "    \n",
    "    #chromatic = range(0, 12)\n",
    "    #notes2 = random_notes(chromatic,range(3, 7),[1/16, 1/8], 100)\n",
    "    \n",
    "    pentatonic = [0, 2, 4, 7, 9]\n",
    "    notes = random_notes(pentatonic,range(5, 7),1/16,100)\n",
    "    midi = Midi()\n",
    "    midi.seq_notes(notes)\n",
    "    midi.write(\"random1.mid\")\n",
    "    playMidi(\"random1.mid\")"
   ]
  },
  {
   "cell_type": "code",
   "execution_count": 274,
   "id": "40c7ec86",
   "metadata": {},
   "outputs": [
    {
     "data": {
      "text/html": [
       "\n",
       "                <div id='midiPlayerDiv21183'></div>\n",
       "                <link rel=\"stylesheet\" href=\"//cuthbertLab.github.io/music21j/css/m21.css\"\n",
       "                    type=\"text/css\" />\n",
       "                <script>\n",
       "                require.config({\n",
       "                    paths: {'music21': '//cuthbertLab.github.io/music21j/src/music21'}\n",
       "                });\n",
       "                require(['music21'], function() {\n",
       "                               mp = new music21.miditools.MidiPlayer();\n",
       "                               mp.addPlayer('#midiPlayerDiv21183');\n",
       "                               mp.base64Load('data:audio/midi;base64,TVRoZAAAAAYAAQACBABNVHJrAAAAFAD/UQMPQkAA/1gEBAIYCIgA/y8ATVRyawAAA58A/wMHVHJhY2sgMADAAADgAEAAwACIAJA+eIIAgD4AAJBFeIIAgEUAAJBMeIIAgEwAAJBPeIIAgE8AAJBPeIIAgE8AAJBDeIIAgEMAAJBReIIAgFEAAJBFeIIAgEUAAJBReIIAgFEAAJBKeIIAgEoAAJA8eIIAgDwAAJA+eIIAgD4AAJBIeIIAgEgAAJBAeIIAgEAAAJBReIIAgFEAAJBIeIIAgEgAAJBIeIIAgEgAAJBAeIIAgEAAAJBReIIAgFEAAJBPeIIAgE8AAJBAeIIAgEAAAJA8eIIAgDwAAJBReIIAgFEAAJBKeIIAgEoAAJBDeIIAgEMAAJA+eIIAgD4AAJBAeIIAgEAAAJBFeIIAgEUAAJBReIIAgFEAAJBMeIIAgEwAAJA+eIIAgD4AAJBFeIIAgEUAAJBKeIIAgEoAAJBDeIIAgEMAAJBAeIIAgEAAAJA8eIIAgDwAAJBAeIIAgEAAAJBMeIIAgEwAAJBDeIIAgEMAAJBReIIAgFEAAJBMeIIAgEwAAJBMeIIAgEwAAJA8eIIAgDwAAJBIeIIAgEgAAJBReIIAgFEAAJA8eIIAgDwAAJBIeIIAgEgAAJBAeIIAgEAAAJBDeIIAgEMAAJA8eIIAgDwAAJBDeIIAgEMAAJBFeIIAgEUAAJBDeIIAgEMAAJBAeIIAgEAAAJBIeIIAgEgAAJA8eIIAgDwAAJBReIIAgFEAAJBPeIIAgE8AAJBIeIIAgEgAAJBIeIIAgEgAAJBDeIIAgEMAAJA8eIIAgDwAAJBPeIIAgE8AAJBFeIIAgEUAAJBIeIIAgEgAAJBAeIIAgEAAAJBFeIIAgEUAAJBDeIIAgEMAAJBReIIAgFEAAJBIeIIAgEgAAJA8eIIAgDwAAJBKeIIAgEoAAJA+eIIAgD4AAJBKeIIAgEoAAJBMeIIAgEwAAJBDeIIAgEMAAJBKeIIAgEoAAJBMeIIAgEwAAJBReIIAgFEAAJA+eIIAgD4AAJBReIIAgFEAAJBDeIIAgEMAAJBPeIIAgE8AAJBKeIIAgEoAAJBPeIIAgE8AAJBDeIIAgEMAAJBDeIIAgEMAAJBDeIIAgEMAAJBFeIIAgEUAAJBIeIIAgEgAAJBPeIIAgE8AAJBDeIIAgEMAAJA+eIIAgD4AAJBReIIAgFEAAJBMeIIAgEwAAJBAeIIAgEAAAJBIeIIAgEgAAJBDeIIAgEMAAJBDeIIAgEMAAJBDeIIAgEMAiAD/LwA=');\n",
       "                        });\n",
       "                </script>"
      ],
      "text/plain": [
       "<IPython.core.display.HTML object>"
      ]
     },
     "metadata": {},
     "output_type": "display_data"
    }
   ],
   "source": [
    "random1()"
   ]
  },
  {
   "cell_type": "code",
   "execution_count": 288,
   "id": "19682465",
   "metadata": {},
   "outputs": [],
   "source": [
    "list(pascals_triangle(5))\n",
    "def play_list(pitch_list, octave_list, duration,\n",
    "    volume=120):\n",
    "    result = NoteSeq()\n",
    "    for pitch in pitch_list:\n",
    "        note = pitch % 12\n",
    "        octave = choice_if_list(octave_list)\n",
    "        dur = choice_if_list(duration)\n",
    "        vol = choice_if_list(volume)\n",
    "        result.append(Note(note, octave, dur, vol))\n",
    "    return result"
   ]
  },
  {
   "cell_type": "code",
   "execution_count": 292,
   "id": "266413a1",
   "metadata": {},
   "outputs": [],
   "source": [
    "    \n",
    "def gen_midi(filename, notes_seq):\n",
    "    midi = Midi()\n",
    "    midi.seq_notes(notes_seq)\n",
    "    midi.write(filename)\n",
    "    playMidi(filename)\n",
    "\n",
    "def random_fib():\n",
    "    octave = range(5, 7)\n",
    "    fib = fibonacci(100000000000)\n",
    "    pascal = flatten(pascals_triangle(30))\n",
    "    n1 = play_list(fib, octave, 1/16)\n",
    "    n2 = play_list(pascal, 4, 1/16)\n",
    "    n3 = play_list(pascal, octave, 1/16)\n",
    "\n",
    "    gen_midi(”fibonnacci.mid”, n1)\n",
    "    gen_midi(”pascal.mid”, n2)\n",
    "    gen_midi(”pascal_octaves.mid”, n3)\n",
    "\n"
   ]
  },
  {
   "cell_type": "code",
   "execution_count": 293,
   "id": "783e8f72",
   "metadata": {},
   "outputs": [
    {
     "data": {
      "text/html": [
       "\n",
       "                <div id='midiPlayerDiv30258'></div>\n",
       "                <link rel=\"stylesheet\" href=\"//cuthbertLab.github.io/music21j/css/m21.css\"\n",
       "                    type=\"text/css\" />\n",
       "                <script>\n",
       "                require.config({\n",
       "                    paths: {'music21': '//cuthbertLab.github.io/music21j/src/music21'}\n",
       "                });\n",
       "                require(['music21'], function() {\n",
       "                               mp = new music21.miditools.MidiPlayer();\n",
       "                               mp.addPlayer('#midiPlayerDiv30258');\n",
       "                               mp.base64Load('data:audio/midi;base64,TVRoZAAAAAYAAQACBABNVHJrAAAAFAD/UQMPQkAA/1gEBAIYCIgA/y8ATVRyawAAAgoA/wMHVHJhY2sgMADAAADgAEAAwACIAJA8eIIAgDwAAJBJeIIAgEkAAJBJeIIAgEkAAJA+eIIAgD4AAJA/eIIAgD8AAJBNeIIAgE0AAJBEeIIAgEQAAJA9eIIAgD0AAJBFeIIAgEUAAJBGeIIAgEYAAJBDeIIAgEMAAJBBeIIAgEEAAJA8eIIAgDwAAJBNeIIAgE0AAJBBeIIAgEEAAJBGeIIAgEYAAJA/eIIAgD8AAJBJeIIAgEkAAJBMeIIAgEwAAJBBeIIAgEEAAJBReIIAgFEAAJA+eIIAgD4AAJBTeIIAgFMAAJBJeIIAgEkAAJA8eIIAgDwAAJBJeIIAgEkAAJBJeIIAgEkAAJA+eIIAgD4AAJA/eIIAgD8AAJBNeIIAgE0AAJBQeIIAgFAAAJBJeIIAgEkAAJBFeIIAgEUAAJBSeIIAgFIAAJBDeIIAgEMAAJBNeIIAgE0AAJBIeIIAgEgAAJBNeIIAgE0AAJBNeIIAgE0AAJBGeIIAgEYAAJA/eIIAgD8AAJA9eIIAgD0AAJBAeIIAgEAAAJBNeIIAgE0AAJBFeIIAgEUAAJBKeIIAgEoAAJBHeIIAgEcAAJBJeIIAgEkAAJA8eIIAgDwAAJBJeIIAgEkAAJBJeIIAgEkAAJBKeIIAgEoAAJA/eIIAgD8AAJBNeIIAgE0AAJBQeIIAgFAAiAD/LwA=');\n",
       "                        });\n",
       "                </script>"
      ],
      "text/plain": [
       "<IPython.core.display.HTML object>"
      ]
     },
     "metadata": {},
     "output_type": "display_data"
    },
    {
     "data": {
      "text/html": [
       "\n",
       "                <div id='midiPlayerDiv39670'></div>\n",
       "                <link rel=\"stylesheet\" href=\"//cuthbertLab.github.io/music21j/css/m21.css\"\n",
       "                    type=\"text/css\" />\n",
       "                <script>\n",
       "                require.config({\n",
       "                    paths: {'music21': '//cuthbertLab.github.io/music21j/src/music21'}\n",
       "                });\n",
       "                require(['music21'], function() {\n",
       "                               mp = new music21.miditools.MidiPlayer();\n",
       "                               mp.addPlayer('#midiPlayerDiv39670');\n",
       "                               mp.base64Load('data:audio/midi;base64,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');\n",
       "                        });\n",
       "                </script>"
      ],
      "text/plain": [
       "<IPython.core.display.HTML object>"
      ]
     },
     "metadata": {},
     "output_type": "display_data"
    },
    {
     "data": {
      "text/html": [
       "\n",
       "                <div id='midiPlayerDiv48995'></div>\n",
       "                <link rel=\"stylesheet\" href=\"//cuthbertLab.github.io/music21j/css/m21.css\"\n",
       "                    type=\"text/css\" />\n",
       "                <script>\n",
       "                require.config({\n",
       "                    paths: {'music21': '//cuthbertLab.github.io/music21j/src/music21'}\n",
       "                });\n",
       "                require(['music21'], function() {\n",
       "                               mp = new music21.miditools.MidiPlayer();\n",
       "                               mp.addPlayer('#midiPlayerDiv48995');\n",
       "                               mp.base64Load('data:audio/midi;base64,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');\n",
       "                        });\n",
       "                </script>"
      ],
      "text/plain": [
       "<IPython.core.display.HTML object>"
      ]
     },
     "metadata": {},
     "output_type": "display_data"
    }
   ],
   "source": [
    "random_fib()"
   ]
  },
  {
   "cell_type": "code",
   "execution_count": 296,
   "id": "f706a3b2",
   "metadata": {},
   "outputs": [],
   "source": []
  },
  {
   "cell_type": "code",
   "execution_count": 316,
   "id": "22a1b861",
   "metadata": {},
   "outputs": [],
   "source": [
    "def random_fib():\n",
    "    octave = range(5, 7)\n",
    "    fib = fibonacci(100000000000)\n",
    "    pascal = flatten(pascals_triangle(30))\n",
    "    n1 = play_list(fib, octave, 1/16)\n",
    "    n2 = play_list(pascal, 5, 1/16)\n",
    "    n3 = play_list(pascal, octave, 1/16)\n",
    "\n",
    "    gen_midi(\"fibonnacci.mid\", n1)\n",
    "    gen_midi(\"pascal.mid\", n2)\n",
    "    gen_midi(\"pascal_octaves.mid\", n3)"
   ]
  },
  {
   "cell_type": "code",
   "execution_count": 333,
   "id": "fd6e2a3d",
   "metadata": {},
   "outputs": [],
   "source": [
    "def demo111():\n",
    "    A005132 = [0, 1, 3, 6, 2, 7, 13, 20, 12, 21, 11, 22, 10, 23, 9, 24, 8, 25, 43, 62, 42, 63, 41, 18, 42, 17, 43, 16, 44, 15, 45, 14, 46, 79, 113, 78, 114, 77, 39, 78, 38, 79, 37, 80, 36, 81, 35, 82, 34, 83, 33, 84, 32, 85, 31, 86, 30, 87, 29, 88, 28, 89, 27, 90, 26, 91, 157, 224, 156, 225, 155]\n",
    "    #A001222 = [0, 1, 1, 2, 1, 2, 1, 3, 2, 2, 1, 3, 1, 2, 2, 4, 1, 3, 1, 3, 2, 2, 1, 4, 2, 2, 3, 3, 1, 3, 1, 5, 2, 2, 2, 4, 1, 2, 2, 4, 1, 3, 1, 3, 3, 2, 1, 5, 2, 3, 2, 3, 1, 4, 2, 4, 2, 2, 1, 4, 1, 2, 3, 6, 2, 3, 1, 3, 2, 3, 1, 5, 1, 2, 3, 3, 2, 3, 1, 5, 4, 2, 1, 4, 2, 2, 2, 4, 1, 4, 2, 3, 2, 2, 2, 6, 1, 3, 3, 4, 1, 3, 1, 4, 3, 2, 1, 5, 1, 3, 2 ]\n",
    "    notes = play_list(A005132, 5, 1/16)\n",
    "    gen_midi(\"demo111.mid\", notes)"
   ]
  },
  {
   "cell_type": "code",
   "execution_count": 334,
   "id": "7e4a2c69",
   "metadata": {},
   "outputs": [
    {
     "data": {
      "text/html": [
       "\n",
       "                <div id='midiPlayerDiv71967'></div>\n",
       "                <link rel=\"stylesheet\" href=\"//cuthbertLab.github.io/music21j/css/m21.css\"\n",
       "                    type=\"text/css\" />\n",
       "                <script>\n",
       "                require.config({\n",
       "                    paths: {'music21': '//cuthbertLab.github.io/music21j/src/music21'}\n",
       "                });\n",
       "                require(['music21'], function() {\n",
       "                               mp = new music21.miditools.MidiPlayer();\n",
       "                               mp.addPlayer('#midiPlayerDiv71967');\n",
       "                               mp.base64Load('data:audio/midi;base64,TVRoZAAAAAYAAQACBABNVHJrAAAAFAD/UQMPQkAA/1gEBAIYCIgA/y8ATVRyawAAApoA/wMHVHJhY2sgMADAAADgAEAAwACIAJA8eIIAgDwAAJA9eIIAgD0AAJA/eIIAgD8AAJBCeIIAgEIAAJA+eIIAgD4AAJBDeIIAgEMAAJA9eIIAgD0AAJBEeIIAgEQAAJA8eIIAgDwAAJBFeIIAgEUAAJBHeIIAgEcAAJBGeIIAgEYAAJBGeIIAgEYAAJBHeIIAgEcAAJBFeIIAgEUAAJA8eIIAgDwAAJBEeIIAgEQAAJA9eIIAgD0AAJBDeIIAgEMAAJA+eIIAgD4AAJBCeIIAgEIAAJA/eIIAgD8AAJBBeIIAgEEAAJBCeIIAgEIAAJBCeIIAgEIAAJBBeIIAgEEAAJBDeIIAgEMAAJBAeIIAgEAAAJBEeIIAgEQAAJA/eIIAgD8AAJBFeIIAgEUAAJA+eIIAgD4AAJBGeIIAgEYAAJBDeIIAgEMAAJBBeIIAgEEAAJBCeIIAgEIAAJBCeIIAgEIAAJBBeIIAgEEAAJA/eIIAgD8AAJBCeIIAgEIAAJA+eIIAgD4AAJBDeIIAgEMAAJA9eIIAgD0AAJBEeIIAgEQAAJA8eIIAgDwAAJBFeIIAgEUAAJBHeIIAgEcAAJBGeIIAgEYAAJBGeIIAgEYAAJBHeIIAgEcAAJBFeIIAgEUAAJA8eIIAgDwAAJBEeIIAgEQAAJA9eIIAgD0AAJBDeIIAgEMAAJA+eIIAgD4AAJBCeIIAgEIAAJA/eIIAgD8AAJBBeIIAgEEAAJBAeIIAgEAAAJBAeIIAgEAAAJBBeIIAgEEAAJA/eIIAgD8AAJBCeIIAgEIAAJA+eIIAgD4AAJBDeIIAgEMAAJA9eIIAgD0AAJBEeIIAgEQAAJA8eIIAgDwAAJBFeIIAgEUAAJBHeIIAgEcAiAD/LwA=');\n",
       "                        });\n",
       "                </script>"
      ],
      "text/plain": [
       "<IPython.core.display.HTML object>"
      ]
     },
     "metadata": {},
     "output_type": "display_data"
    }
   ],
   "source": [
    "demo111()"
   ]
  },
  {
   "cell_type": "code",
   "execution_count": 354,
   "id": "972462a5",
   "metadata": {},
   "outputs": [],
   "source": [
    "def gen_patterns(pattern, number_rotations=12, repeat=4):\n",
    "    result = NoteSeq()\n",
    "    for n in range(0, number_rotations):\n",
    "        rotation = pattern.rotate(n)\n",
    "        result.extend(rotation * repeat)\n",
    "    return result\n",
    "\n",
    "def piano_phase(number_rotations=12, repeat=4):\n",
    "   # A005132 = [0, 1, 3, 6, 2, 7, 13, 20, 12, 21, 11, 22, 10, 23, 9, 24, 8, 25, 43, 62, 42, 63, 41, 18, 42, 17, 43, 16, 44, 15, 45, 14, 46, 79, 113, 78, 114, 77, 39, 78, 38, 79, 37, 80, 36, 81, 35, 82, 34, 83, 33, 84, 32, 85, 31, 86, 30, 87, 29, 88, 28, 89, 27, 90, 26, 91, 157, 224, 156, 225, 155]\n",
    "   # notes = play_list(A005132, 4, 1/16)\n",
    "   # pattern = notes\n",
    "    pattern = NoteSeq(\"E16 F# B C#’’ D’’ F#’ E C#’’ B’ F# D’’ C#\")\n",
    "    piano1 = pattern * (number_rotations + 1) * repeat\n",
    "    piano2 = gen_patterns(pattern, number_rotations, repeat)\n",
    "    midi = Midi(2, tempo=108)\n",
    "    midi.seq_notes(piano1)\n",
    "    midi.seq_notes(piano2, track=1, time=3*repeat)\n",
    "    midi.write(\"midi/piano-phase.mid\")\n",
    "    \n",
    "    \n",
    "    "
   ]
  },
  {
   "cell_type": "code",
   "execution_count": 355,
   "id": "1d467ca4",
   "metadata": {},
   "outputs": [
    {
     "data": {
      "text/html": [
       "\n",
       "                <div id='midiPlayerDiv515262'></div>\n",
       "                <link rel=\"stylesheet\" href=\"//cuthbertLab.github.io/music21j/css/m21.css\"\n",
       "                    type=\"text/css\" />\n",
       "                <script>\n",
       "                require.config({\n",
       "                    paths: {'music21': '//cuthbertLab.github.io/music21j/src/music21'}\n",
       "                });\n",
       "                require(['music21'], function() {\n",
       "                               mp = new music21.miditools.MidiPlayer();\n",
       "                               mp.addPlayer('#midiPlayerDiv515262');\n",
       "                               mp.base64Load('data:audio/midi;base64,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');\n",
       "                        });\n",
       "                </script>"
      ],
      "text/plain": [
       "<IPython.core.display.HTML object>"
      ]
     },
     "metadata": {},
     "output_type": "display_data"
    }
   ],
   "source": [
    "piano_phase()\n",
    "playMidi(\"midi/piano-phase.mid\")"
   ]
  },
  {
   "cell_type": "code",
   "execution_count": 358,
   "id": "bfd4d18d",
   "metadata": {},
   "outputs": [],
   "source": [
    "def crab_canon():\n",
    "    theme2 = NoteSeq(\"file://Code//canon-crab\")\n",
    "    rev_theme = theme2.transposition(-12).retrograde()\n",
    "    midi = Midi(2, tempo=120)\n",
    "    midi.seq_notes(theme2)\n",
    "    midi.seq_notes(rev_theme, track=1)\n",
    "    midi.write(\"midi/canon-crab.mid\")"
   ]
  },
  {
   "cell_type": "code",
   "execution_count": 360,
   "id": "72badabe",
   "metadata": {},
   "outputs": [
    {
     "data": {
      "text/html": [
       "\n",
       "                <div id='midiPlayerDiv520377'></div>\n",
       "                <link rel=\"stylesheet\" href=\"//cuthbertLab.github.io/music21j/css/m21.css\"\n",
       "                    type=\"text/css\" />\n",
       "                <script>\n",
       "                require.config({\n",
       "                    paths: {'music21': '//cuthbertLab.github.io/music21j/src/music21'}\n",
       "                });\n",
       "                require(['music21'], function() {\n",
       "                               mp = new music21.miditools.MidiPlayer();\n",
       "                               mp.addPlayer('#midiPlayerDiv520377');\n",
       "                               mp.base64Load('data:audio/midi;base64,TVRoZAAAAAYAAQADBABNVHJrAAAAFAD/UQMHoSAA/1gEBAIYCIgA/y8ATVRyawAAAz0A/wMHVHJhY2sgMADAAADgAEAAwACIAJA8eJAAgDwAAJA/eJAAgD8AAJBDeJAAgEMAAJBEeJAAgEQAAJA7eJAAgDsAiACQQ3iQAIBDAACQQniQAIBCAACQQXiQAIBBAACQQHiQAIBAAACQP3iQAIA/AACQPniIAIA+AACQPXiIAIA9AACQPHiIAIA8AACQO3iIAIA7AACQN3iIAIA3AACQPHiIAIA8AACQQXiIAIBBAACQP3iQAIA/AACQPniQAIA+AACQPHiQAIA8AACQP3iQAIA/AACQQ3iEAIBDAACQQXiEAIBBAACQQ3iEAIBDAACQSHiEAIBIAACQQ3iEAIBDAACQP3iEAIA/AACQPniEAIA+AACQP3iEAIA/AACQQXiEAIBBAACQQ3iEAIBDAACQRXiEAIBFAACQR3iEAIBHAACQSHiEAIBIAACQP3iEAIA/AACQQXiEAIBBAACQQ3iEAIBDAACQRHiEAIBEAACQPniEAIA+AACQP3iEAIA/AACQQXiEAIBBAACQQ3iEAIBDAACQQXiEAIBBAACQP3iEAIA/AACQPniEAIA+AACQP3iEAIA/AACQQXiEAIBBAACQQ3iEAIBDAACQRHiEAIBEAACQRniEAIBGAACQRHiEAIBEAACQQ3iEAIBDAACQQXiEAIBBAACQQ3iEAIBDAACQRHiEAIBEAACQRniEAIBGAACQSHiEAIBIAACQSXiEAIBJAACQRniEAIBGAACQRHiEAIBEAACQQ3iEAIBDAACQRXiEAIBFAACQR3iEAIBHAACQSHiEAIBIAACQSniEAIBKAACQS3iEAIBLAACQSHiEAIBIAACQR3iEAIBHAACQRXiEAIBFAACQR3iEAIBHAACQSHiEAIBIAACQSniEAIBKAACQS3iEAIBLAACQTXiEAIBNAACQSniEAIBKAACQQ3iEAIBDAACQSniEAIBKAACQSHiEAIBIAACQSniEAIBKAACQS3iEAIBLAACQTXiEAIBNAACQS3iEAIBLAACQSniEAIBKAACQSHiEAIBIAACQR3iEAIBHAACQSHiIAIBIAACQQ3iIAIBDAACQP3iIAIA/AACQPHiIAIA8AIgA/y8ATVRyawAAAz0A/wMHVHJhY2sgMQDAAADgAEAAwACIAJAweIgAgDAAAJAzeIgAgDMAAJA3eIgAgDcAAJA8eIgAgDwAAJA7eIQAgDsAAJA8eIQAgDwAAJA+eIQAgD4AAJA/eIQAgD8AAJBBeIQAgEEAAJA/eIQAgD8AAJA+eIQAgD4AAJA8eIQAgDwAAJA+eIQAgD4AAJA3eIQAgDcAAJA+eIQAgD4AAJBBeIQAgEEAAJA/eIQAgD8AAJA+eIQAgD4AAJA8eIQAgDwAAJA7eIQAgDsAAJA5eIQAgDkAAJA7eIQAgDsAAJA8eIQAgDwAAJA/eIQAgD8AAJA+eIQAgD4AAJA8eIQAgDwAAJA7eIQAgDsAAJA5eIQAgDkAAJA3eIQAgDcAAJA4eIQAgDgAAJA6eIQAgDoAAJA9eIQAgD0AAJA8eIQAgDwAAJA6eIQAgDoAAJA4eIQAgDgAAJA3eIQAgDcAAJA1eIQAgDUAAJA3eIQAgDcAAJA4eIQAgDgAAJA6eIQAgDoAAJA4eIQAgDgAAJA3eIQAgDcAAJA1eIQAgDUAAJAzeIQAgDMAAJAyeIQAgDIAAJAzeIQAgDMAAJA1eIQAgDUAAJA3eIQAgDcAAJA1eIQAgDUAAJAzeIQAgDMAAJAyeIQAgDIAAJA4eIQAgDgAAJA3eIQAgDcAAJA1eIQAgDUAAJAzeIQAgDMAAJA8eIQAgDwAAJA7eIQAgDsAAJA5eIQAgDkAAJA3eIQAgDcAAJA1eIQAgDUAAJAzeIQAgDMAAJAyeIQAgDIAAJAzeIQAgDMAAJA3eIQAgDcAAJA8eIQAgDwAAJA3eIQAgDcAAJA1eIQAgDUAAJA3eIQAgDcAAJAzeJAAgDMAAJAweJAAgDAAAJAyeJAAgDIAAJAzeJAAgDMAAJA1eIgAgDUAAJAweIgAgDAAAJAreIgAgCsAAJAveIgAgC8AAJAweIgAgDAAAJAxeIgAgDEAAJAyeIgAgDIAAJAzeJAAgDMAAJA0eJAAgDQAAJA1eJAAgDUAAJA2eJAAgDYAAJA3eJAAgDcAiACQL3iQAIAvAACQOHiQAIA4AACQN3iQAIA3AACQM3iQAIAzAACQMHiQAIAwAIgA/y8A');\n",
       "                        });\n",
       "                </script>"
      ],
      "text/plain": [
       "<IPython.core.display.HTML object>"
      ]
     },
     "metadata": {},
     "output_type": "display_data"
    }
   ],
   "source": [
    "crab_canon()\n",
    "playMidi(\"midi/canon-crab.mid\")"
   ]
  },
  {
   "cell_type": "code",
   "execution_count": 365,
   "id": "1e96c2db",
   "metadata": {},
   "outputs": [],
   "source": [
    "def canon():\n",
    "    theme1 = NoteSeq(\"file://Code/canon-quaerendo-invenietis\")\n",
    "    part1 = theme1 + theme1[2:] + theme1[2:11]\n",
    "    part2 = theme1 + theme1[2:] + theme1[2:4]\n",
    "    voice1 = part1\n",
    "    voice2 = part2.inversion_startswith(Note(2, 4))\n",
    "    midi = Midi(2, tempo=150)\n",
    "    midi.seq_notes(voice1, time=3, track=0)\n",
    "    midi.seq_notes(voice2, time=13, track=1)\n",
    "    midi.write(\"midi/canon.mid\")"
   ]
  },
  {
   "cell_type": "code",
   "execution_count": 366,
   "id": "e0055fdc",
   "metadata": {},
   "outputs": [
    {
     "data": {
      "text/html": [
       "\n",
       "                <div id='midiPlayerDiv531331'></div>\n",
       "                <link rel=\"stylesheet\" href=\"//cuthbertLab.github.io/music21j/css/m21.css\"\n",
       "                    type=\"text/css\" />\n",
       "                <script>\n",
       "                require.config({\n",
       "                    paths: {'music21': '//cuthbertLab.github.io/music21j/src/music21'}\n",
       "                });\n",
       "                require(['music21'], function() {\n",
       "                               mp = new music21.miditools.MidiPlayer();\n",
       "                               mp.addPlayer('#midiPlayerDiv531331');\n",
       "                               mp.base64Load('data:audio/midi;base64,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');\n",
       "                        });\n",
       "                </script>"
      ],
      "text/plain": [
       "<IPython.core.display.HTML object>"
      ]
     },
     "metadata": {},
     "output_type": "display_data"
    }
   ],
   "source": [
    "canon()\n",
    "playMidi(\"midi/canon.mid\")"
   ]
  },
  {
   "cell_type": "code",
   "execution_count": 367,
   "id": "33e55306",
   "metadata": {},
   "outputs": [],
   "source": [
    "def josquin():\n",
    "    main_theme = NoteSeq(\"file://Code//josquin\")\n",
    "    theme1 = main_theme.stretch_dur(0.66666)\n",
    "    theme2 = main_theme[0:24].stretch_dur(2).transp(Note(\"C\"))\n",
    "    theme3 = main_theme[0:50]\n",
    "    midi = Midi(3, tempo=80)\n",
    "    midi.seq_notes(theme1, track=0)\n",
    "    midi.seq_notes(theme2, track=1)\n",
    "    midi.seq_notes(theme3, track=2)\n",
    "    midi.write(\"midi/josquin.mid\")"
   ]
  },
  {
   "cell_type": "code",
   "execution_count": 368,
   "id": "fbf29028",
   "metadata": {},
   "outputs": [],
   "source": [
    "josquin()"
   ]
  },
  {
   "cell_type": "code",
   "execution_count": 369,
   "id": "4a72c9fc",
   "metadata": {},
   "outputs": [
    {
     "data": {
      "text/html": [
       "\n",
       "                <div id='midiPlayerDiv539221'></div>\n",
       "                <link rel=\"stylesheet\" href=\"//cuthbertLab.github.io/music21j/css/m21.css\"\n",
       "                    type=\"text/css\" />\n",
       "                <script>\n",
       "                require.config({\n",
       "                    paths: {'music21': '//cuthbertLab.github.io/music21j/src/music21'}\n",
       "                });\n",
       "                require(['music21'], function() {\n",
       "                               mp = new music21.miditools.MidiPlayer();\n",
       "                               mp.addPlayer('#midiPlayerDiv539221');\n",
       "                               mp.base64Load('data:audio/midi;base64,TVRoZAAAAAYAAQAEBABNVHJrAAAAFAD/UQMLcbAA/1gEBAIYCIgA/y8ATVRyawAAAogA/wMHVHJhY2sgMADAAADgAEAAwACIAJBBeIpVgEEAAJBBeIpVgEEAAZBBeIpVgEEAAJBEeJAAgEQAAJBBeIUrgEEAAJBEeIgAgEQAAJBGeIJVgEYAAJBIeJUrgEgAAJBIeIpVgEgAAJBIeJAAgEgAAJBGeIUrgEYAAJBEeIpVgEQAAJBDeIoAkD94VYBDAI8rgD8AAJA8eIYAgDwAAJA8eIpVgDwAiSuQSHiKAIBIAIIAkEZ4igCQQ3hVgEYAjyuAQwAAkER4hgCARAAAkEZ4igCQP3hVgEYAlSuAPwAAkEZ4igCQQ3hVgEYAjyuAQwAAkER4hACQRniBK4BEAJQAgEYAilWQRniKAIBGAIIAkEZ4igCQRnhVgEYAiSuQQ3hVgEYAjyuAQwAAkD94hgCAPwAAkD94ilWAPwCLK5BGeIoAkEZ4VYBGAIkrkEZ4VYBGAI8rgEYAAJBEeIYAgEQAAJBDeIoAkEF4VYBDAIkrkEZ4VYBBAI8rgEYAAJBIeIYAgEgAAJBKeIgAgEoAAJBIeIIAkEp4VYBIAIUrgEoAAJBGeIoAkER4VYBGAIErgEQAggCQQ3iCAJBBeFWAQwCJK5BGeFWAQQCVK4BGAACQRniKAJBGeFWARgCVK4BGAACQRHiKAJBBeFWARACKAIBBAACQRniKAIBGAIErkEF4igCQRnhVgEEAigCARgAAkEF4ilWAQQABkEZ4ilWARgCKVZBGeIpVgEYAAZBEeIpVgEQAAJBBeIpVgEEAAJBGeIpVgEYAAZBBeIpVgEEAAJBGeIpVgEYAAJBBeIpVgEEAAZBGeIpVgEYAAJBBeIpVgEEAAJBGeIpVgEYAAZBFeKAAgEUAiAD/LwBNVHJrAAAA6wD/AwdUcmFjayAxAMAAAOAAQADAAIgAkDx4oACAPAAAkDx4oACAPAAAkDx4oACAPAAAkD94sACAPwAAkDx4kACAPAAAkD94mACAPwAAkEF4iACAQQAAkEN4wACAQwAAkEN4oACAQwAAkEN4sACAQwAAkEF4kACAQQAAkD94oACAPwAAkD54oACAPgAAkDp4sACAOgAAkDd4kACANwAAkDd4oACANwCgAJBDeKAAgEMAAJBBeKAAgEEAAJA+eLAAgD4AAJA/eJAAgD8AAJBBeKAAgEEAAJA6eMAAgDoAAJBBeKAAgEEAiAD/LwBNVHJrAAABxQD/AwdUcmFjayAyAMAAAOAAQADAAIgAkEF4kACAQQAAkEF4kACAQQAAkEF4kACAQQAAkER4mACARAAAkEF4iACAQQAAkER4jACARAAAkEZ4hACARgAAkEh4oACASAAAkEh4kACASAAAkEh4mACASAAAkEZ4iACARgAAkER4kACARAAAkEN4kACAQwAAkD94mACAPwAAkDx4iACAPAAAkDx4kACAPACQAJBIeJAAgEgAAJBGeJAAgEYAAJBDeJgAgEMAAJBEeIgAgEQAAJBGeJAAgEYAAJA/eKAAgD8AAJBGeJAAgEYAAJBDeJgAgEMAAJBEeIgAgEQAAJBGeKAAgEYAkACQRniQAIBGAACQRniQAIBGAACQRniQAIBGAACQQ3iYAIBDAACQP3iIAIA/AACQP3iQAIA/AJAAkEZ4kACARgAAkEZ4kACARgAAkEZ4mACARgAAkER4iACARAAAkEN4kACAQwAAkEF4kACAQQAAkEZ4mACARgAAkEh4iACASAAAkEp4jACASgAAkEh4hACASAAAkEp4iACASgAAkEZ4kACARgAAkER4hACARAAAkEN4hACAQwAAkEF4kACAQQCIAP8vAA==');\n",
       "                        });\n",
       "                </script>"
      ],
      "text/plain": [
       "<IPython.core.display.HTML object>"
      ]
     },
     "metadata": {},
     "output_type": "display_data"
    }
   ],
   "source": [
    "playMidi(\"midi/josquin.mid\")"
   ]
  },
  {
   "cell_type": "code",
   "execution_count": 389,
   "id": "f8daeabc",
   "metadata": {},
   "outputs": [],
   "source": [
    "import math \n",
    "from itertools import combinations\n",
    "\n",
    "def chord_combinations(n, k):\n",
    "    return math.factorial(n) / (math.factorial(n - k) * math.factorial(k))"
   ]
  },
  {
   "cell_type": "code",
   "execution_count": 390,
   "id": "15934347",
   "metadata": {},
   "outputs": [
    {
     "data": {
      "text/plain": [
       "220.0"
      ]
     },
     "execution_count": 390,
     "metadata": {},
     "output_type": "execute_result"
    }
   ],
   "source": [
    "chord_combinations(12, 3)"
   ]
  },
  {
   "cell_type": "code",
   "execution_count": 393,
   "id": "55a7f9b5",
   "metadata": {},
   "outputs": [],
   "source": [
    "def harmonize(self, scale, interval=3, size=3):\n",
    "    i = (interval - 1)\n",
    "    indices = range(1, size*i, i)\n",
    "    return [self.tonal_transposition(x, scale) for x in indices]"
   ]
  },
  {
   "cell_type": "code",
   "execution_count": 394,
   "id": "5c6d61eb",
   "metadata": {},
   "outputs": [],
   "source": [
    "def tonal_transposition(self, index, scale):\n",
    "    pos = index + scale.index(self) - 1\n",
    "    octave, rest = divmod(pos, 7)\n",
    "    note = copy.copy(scale[pos % len(scale)])\n",
    "    note.octave += octave\n",
    "    return note"
   ]
  },
  {
   "cell_type": "code",
   "execution_count": 395,
   "id": "d4a7e4f1",
   "metadata": {},
   "outputs": [],
   "source": [
    "c = Note(\"C\")"
   ]
  },
  {
   "cell_type": "code",
   "execution_count": 396,
   "id": "5aecff3e",
   "metadata": {},
   "outputs": [
    {
     "data": {
      "text/plain": [
       "<C>"
      ]
     },
     "execution_count": 396,
     "metadata": {},
     "output_type": "execute_result"
    }
   ],
   "source": [
    "c"
   ]
  },
  {
   "cell_type": "code",
   "execution_count": 398,
   "id": "10cea111",
   "metadata": {},
   "outputs": [],
   "source": [
    "c_major_scale = NoteSeq(\"C D E F G A B\")"
   ]
  },
  {
   "cell_type": "code",
   "execution_count": 399,
   "id": "e91b096b",
   "metadata": {},
   "outputs": [
    {
     "data": {
      "text/plain": [
       "<Seq: [<C>, <D>, <E>, <F>, <G>, <A>, <B>]>"
      ]
     },
     "execution_count": 399,
     "metadata": {},
     "output_type": "execute_result"
    }
   ],
   "source": [
    "c_major_scale"
   ]
  },
  {
   "cell_type": "code",
   "execution_count": 400,
   "id": "d87f934b",
   "metadata": {},
   "outputs": [
    {
     "data": {
      "text/plain": [
       "[<C>, <E>, <G>]"
      ]
     },
     "execution_count": 400,
     "metadata": {},
     "output_type": "execute_result"
    }
   ],
   "source": [
    "c.harmonize(c_major_scale)"
   ]
  },
  {
   "cell_type": "code",
   "execution_count": 401,
   "id": "6ac06c64",
   "metadata": {},
   "outputs": [],
   "source": [
    "def harmonize(self, interval=3, size=3):\n",
    "    return [NoteSeq(note.harmonize(self, interval, size)) for note in self]"
   ]
  },
  {
   "cell_type": "code",
   "execution_count": 403,
   "id": "4ba1b532",
   "metadata": {},
   "outputs": [],
   "source": [
    "c_major_scale = NoteSeq(\"C D E F G A B\")"
   ]
  },
  {
   "cell_type": "code",
   "execution_count": 404,
   "id": "5894dc4e",
   "metadata": {},
   "outputs": [
    {
     "data": {
      "text/plain": [
       "<Seq: [<C>, <D>, <E>, <F>, <G>, <A>, <B>]>"
      ]
     },
     "execution_count": 404,
     "metadata": {},
     "output_type": "execute_result"
    }
   ],
   "source": [
    "c_major_scale"
   ]
  },
  {
   "cell_type": "code",
   "execution_count": 405,
   "id": "29c5a792",
   "metadata": {},
   "outputs": [
    {
     "data": {
      "text/plain": [
       "[<Seq: [<C>, <E>, <G>]>,\n",
       " <Seq: [<D>, <F>, <A>]>,\n",
       " <Seq: [<E>, <G>, <B>]>,\n",
       " <Seq: [<F>, <A>, <C>]>,\n",
       " <Seq: [<G>, <B>, <D>]>,\n",
       " <Seq: [<A>, <C>, <E>]>,\n",
       " <Seq: [<B>, <D>, <F>]>]"
      ]
     },
     "execution_count": 405,
     "metadata": {},
     "output_type": "execute_result"
    }
   ],
   "source": [
    "c_major_scale.harmonize()"
   ]
  },
  {
   "cell_type": "code",
   "execution_count": 92,
   "id": "138e25ad",
   "metadata": {},
   "outputs": [],
   "source": [
    "\n",
    "\n",
    "\n",
    "def playMidi(filename):\n",
    "    mymidi = Midi()\n",
    "    mf = mymidi.MidiFile()\n",
    "    mf.open(filename)\n",
    "    mf.read()\n",
    "    mf.close()\n",
    "    s=midi.translate.midiFileToStream(mf)\n",
    "    s.show('midi')\n",
    "    \n",
    "def c_minor(filename):\n",
    "    theme2 = NoteSeq(\"file://themes//\" + filename)\n",
    "    rev_theme = theme2.transposition(-12).retrograde()\n",
    "    xmidi = Midi(2, tempo=120)\n",
    "    #xmidi = Midi()\n",
    "    xmidi.seq_notes(theme2)\n",
    "    #xmidi.seq_notes(rev_theme, track=1)\n",
    "    xmidi.write(\"midi/\" + filename + \".mid\")\n",
    "   \n",
    "    \n",
    "def gen_midi(filename, notes_seq,midi):\n",
    "    #midi = Midi()\n",
    "    midi.seq_notes(notes_seq)\n",
    "    midi.write(filename)\n",
    "    "
   ]
  },
  {
   "cell_type": "code",
   "execution_count": 93,
   "id": "be76373f",
   "metadata": {},
   "outputs": [],
   "source": [
    "c_minor(\"joy_to_the_world\")\n",
    "#playMidi(\"midi/joy_to_the_world.mid\")"
   ]
  },
  {
   "cell_type": "code",
   "execution_count": null,
   "id": "0289c647",
   "metadata": {},
   "outputs": [],
   "source": []
  }
 ],
 "metadata": {
  "kernelspec": {
   "display_name": "Python 3 (ipykernel)",
   "language": "python",
   "name": "python3"
  },
  "language_info": {
   "codemirror_mode": {
    "name": "ipython",
    "version": 3
   },
   "file_extension": ".py",
   "mimetype": "text/x-python",
   "name": "python",
   "nbconvert_exporter": "python",
   "pygments_lexer": "ipython3",
   "version": "3.9.7"
  }
 },
 "nbformat": 4,
 "nbformat_minor": 5
}
